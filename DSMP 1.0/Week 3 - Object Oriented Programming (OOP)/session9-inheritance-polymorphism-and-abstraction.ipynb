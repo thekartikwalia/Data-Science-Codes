{
 "cells": [
  {
   "cell_type": "markdown",
   "metadata": {
    "id": "yqLLqLyj4r0z"
   },
   "source": [
    "### Class Relationships\n",
    "\n",
    "- Aggregation\n",
    "- Inheritance"
   ]
  },
  {
   "cell_type": "markdown",
   "metadata": {
    "id": "f69fS6U45Hqr"
   },
   "source": [
    "### Aggregation(Has-A relationship)\n",
    "One class owns the other class"
   ]
  },
  {
   "cell_type": "code",
   "execution_count": 12,
   "metadata": {
    "colab": {
     "base_uri": "https://localhost:8080/"
    },
    "id": "5kx2nO_m5GdR",
    "outputId": "334c7266-876b-4569-e3af-d9bdb824a0e4"
   },
   "outputs": [
    {
     "name": "stdout",
     "output_type": "stream",
     "text": [
      "gurgaon 122011 haryana\n",
      "gurgaon 122011 haryana\n",
      "mumbai 111111 maharastra\n",
      "mumbai 111111 maharastra\n"
     ]
    }
   ],
   "source": [
    "# example\n",
    "\n",
    "class Customer:\n",
    "\n",
    "  def __init__(self,name,gender,address):\n",
    "    self.name = name\n",
    "    self.gender = gender\n",
    "    self.address = address\n",
    "\n",
    "  def print_address(self):\n",
    "    # print(self.address.__city,self.address.pin,self.address.state) # can't access private attributes of the owned class\n",
    "    print(self.address._Address__city,self.address.pin,self.address.state) # Not good quality code (incorrect way to access private members)\n",
    "    print(self.address.get_city(),self.address.pin,self.address.state) # Good quality code (correct way to access private members)\n",
    "\n",
    "  def edit_profile(self,new_name,new_city,new_pin,new_state):\n",
    "    self.name = new_name\n",
    "    self.address.edit_address(new_city,new_pin,new_state)\n",
    "\n",
    "class Address:\n",
    "\n",
    "  def __init__(self,city,pin,state):\n",
    "      self.__city = city\n",
    "      self.pin = pin\n",
    "      self.state = state\n",
    "\n",
    "  def get_city(self):\n",
    "    return self.__city\n",
    "\n",
    "  def edit_address(self,new_city,new_pin,new_state):\n",
    "    self.__city = new_city\n",
    "    self.pin = new_pin\n",
    "    self.state = new_state\n",
    "\n",
    "add1 = Address('gurgaon',122011,'haryana')\n",
    "cust = Customer('kartik','male',add1) # AGGREGATION\n",
    "\n",
    "cust.print_address()\n",
    "\n",
    "cust.edit_profile('mayank','mumbai',111111,'maharastra')\n",
    "cust.print_address()"
   ]
  },
  {
   "cell_type": "markdown",
   "metadata": {
    "id": "ftkzTkLv64OS"
   },
   "source": [
    "### Inheritance\n",
    "\n",
    "- What is inheritance\n",
    "- Example\n",
    "- What gets inherited?"
   ]
  },
  {
   "cell_type": "markdown",
   "metadata": {
    "id": "uSTDcEyh65cu"
   },
   "source": [
    "##### Inheritance and it's benefits\n",
    "- Code reusability (DRY - Don't Repeat Yourself)"
   ]
  },
  {
   "cell_type": "code",
   "execution_count": 26,
   "metadata": {
    "colab": {
     "base_uri": "https://localhost:8080/"
    },
    "id": "k_BCUsIbPHud",
    "outputId": "ace03f99-3335-4da0-9ab6-37d6f980f637"
   },
   "outputs": [
    {
     "name": "stdout",
     "output_type": "stream",
     "text": [
      "kartik\n",
      "male\n",
      "login\n",
      "enroll into the course\n"
     ]
    }
   ],
   "source": [
    "# Example\n",
    "\n",
    "# parent\n",
    "class User:\n",
    "\n",
    "  def __init__(self):\n",
    "    self.name = 'kartik'\n",
    "    self.gender = 'male'\n",
    "\n",
    "  def login(self):\n",
    "    print('login')\n",
    "\n",
    "# child: can access members of parent class as well\n",
    "class Student(User):\n",
    "\n",
    "  # In presence of this constructor, constructor of parent class never gets called\n",
    "  # def __init__(self):\n",
    "  #   self.rollno = 100\n",
    "\n",
    "  def enroll(self):\n",
    "    print('enroll into the course')\n",
    "\n",
    "u = User()\n",
    "s = Student()\n",
    "\n",
    "print(s.name)\n",
    "print(s.gender)\n",
    "# print(s.rollno)\n",
    "s.login()\n",
    "s.enroll()\n",
    "\n",
    "\n",
    "# Upon running Student(), it finds constructor in child class (i.e. Student)\n",
    "# if found it runs that constructor, otherwise it goes to parent class and runs it's constructor \n",
    "\n",
    "# Here, In presence child class constructor, the constructor of parent class never got called \n",
    "# Hence, attributes 'name' and 'gender' were never created"
   ]
  },
  {
   "cell_type": "markdown",
   "metadata": {
    "id": "CJEPRGHGPY9n"
   },
   "source": [
    "##### What gets inherited?\n",
    "\n",
    "- Constructor\n",
    "- Non Private Attributes\n",
    "- Non Private Methods"
   ]
  },
  {
   "cell_type": "code",
   "execution_count": 28,
   "metadata": {
    "colab": {
     "base_uri": "https://localhost:8080/"
    },
    "id": "VGpL2aWUPX-C",
    "outputId": "5114dda8-4e7a-45ea-fd82-ce6e968cba82"
   },
   "outputs": [
    {
     "name": "stdout",
     "output_type": "stream",
     "text": [
      "Inside phone constructor\n",
      "Buying a phone\n"
     ]
    }
   ],
   "source": [
    "# constructor example\n",
    "\n",
    "class Phone:\n",
    "    def __init__(self, price, brand, camera):\n",
    "        print (\"Inside phone constructor\")\n",
    "        self.price = price\n",
    "        self.brand = brand\n",
    "        self.camera = camera\n",
    "\n",
    "    def buy(self):\n",
    "        print (\"Buying a phone\")\n",
    "\n",
    "class SmartPhone(Phone):\n",
    "    pass\n",
    "\n",
    "s=SmartPhone(20000, \"Apple\", 13) # since, child class doesn't have its own constructor, so constructor of parent class gets called\n",
    "s.buy()"
   ]
  },
  {
   "cell_type": "code",
   "execution_count": 34,
   "metadata": {
    "colab": {
     "base_uri": "https://localhost:8080/",
     "height": 223
    },
    "id": "PMjCWA3wP_s-",
    "outputId": "9cf6eca4-444a-48ee-9a55-82eeca73e4e2"
   },
   "outputs": [
    {
     "name": "stdout",
     "output_type": "stream",
     "text": [
      "Inside SmartPhone constructor\n"
     ]
    },
    {
     "ename": "AttributeError",
     "evalue": "'SmartPhone' object has no attribute 'brand'",
     "output_type": "error",
     "traceback": [
      "\u001b[0;31m---------------------------------------------------------------------------\u001b[0m",
      "\u001b[0;31mAttributeError\u001b[0m                            Traceback (most recent call last)",
      "Cell \u001b[0;32mIn[34], line 17\u001b[0m\n\u001b[1;32m     14\u001b[0m         \u001b[38;5;28mprint\u001b[39m (\u001b[38;5;124m\"\u001b[39m\u001b[38;5;124mInside SmartPhone constructor\u001b[39m\u001b[38;5;124m\"\u001b[39m)\n\u001b[1;32m     16\u001b[0m s\u001b[38;5;241m=\u001b[39mSmartPhone(\u001b[38;5;124m\"\u001b[39m\u001b[38;5;124mAndroid\u001b[39m\u001b[38;5;124m\"\u001b[39m, \u001b[38;5;241m2\u001b[39m) \u001b[38;5;66;03m# since, child class has its own constructor, so constructor of only child class gets called (not parent class)\u001b[39;00m\n\u001b[0;32m---> 17\u001b[0m s\u001b[38;5;241m.\u001b[39mbrand\n",
      "\u001b[0;31mAttributeError\u001b[0m: 'SmartPhone' object has no attribute 'brand'"
     ]
    }
   ],
   "source": [
    "# constructor example 2\n",
    "\n",
    "class Phone:\n",
    "    def __init__(self, price, brand, camera):\n",
    "        print (\"Inside phone constructor\")\n",
    "        self.__price = price\n",
    "        self.brand = brand\n",
    "        self.camera = camera\n",
    "\n",
    "class SmartPhone(Phone):\n",
    "    def __init__(self, os, ram):\n",
    "        self.os = os\n",
    "        self.ram = ram\n",
    "        print (\"Inside SmartPhone constructor\")\n",
    "\n",
    "s=SmartPhone(\"Android\", 2) # since, child class has its own constructor, so constructor of only child class gets called (not parent class)\n",
    "s.brand # since, constructor of parent class never got called, so attribute 'brand' never exists"
   ]
  },
  {
   "cell_type": "code",
   "execution_count": 38,
   "metadata": {
    "colab": {
     "base_uri": "https://localhost:8080/"
    },
    "id": "OBJEbXw3QNs5",
    "outputId": "a6a7aa97-7b04-4f07-959f-290c1c82d2cd"
   },
   "outputs": [
    {
     "name": "stdout",
     "output_type": "stream",
     "text": [
      "Inside phone constructor\n",
      "Apple\n",
      "20000\n"
     ]
    },
    {
     "ename": "AttributeError",
     "evalue": "'SmartPhone' object has no attribute '_SmartPhone__price'",
     "output_type": "error",
     "traceback": [
      "\u001b[0;31m---------------------------------------------------------------------------\u001b[0m",
      "\u001b[0;31mAttributeError\u001b[0m                            Traceback (most recent call last)",
      "Cell \u001b[0;32mIn[38], line 21\u001b[0m\n\u001b[1;32m     19\u001b[0m \u001b[38;5;28mprint\u001b[39m(s\u001b[38;5;241m.\u001b[39mbrand)\n\u001b[1;32m     20\u001b[0m s\u001b[38;5;241m.\u001b[39mshow()\n\u001b[0;32m---> 21\u001b[0m s\u001b[38;5;241m.\u001b[39mcheck()\n",
      "Cell \u001b[0;32mIn[38], line 16\u001b[0m, in \u001b[0;36mSmartPhone.check\u001b[0;34m(self)\u001b[0m\n\u001b[1;32m     15\u001b[0m \u001b[38;5;28;01mdef\u001b[39;00m \u001b[38;5;21mcheck\u001b[39m(\u001b[38;5;28mself\u001b[39m):\n\u001b[0;32m---> 16\u001b[0m     \u001b[38;5;28mprint\u001b[39m(\u001b[38;5;28mself\u001b[39m\u001b[38;5;241m.\u001b[39m__price)\n",
      "\u001b[0;31mAttributeError\u001b[0m: 'SmartPhone' object has no attribute '_SmartPhone__price'"
     ]
    }
   ],
   "source": [
    "# child can't access private members of the class\n",
    "\n",
    "class Phone:\n",
    "    def __init__(self, price, brand, camera):\n",
    "        print (\"Inside phone constructor\")\n",
    "        self.__price = price\n",
    "        self.brand = brand\n",
    "        self.camera = camera\n",
    "\n",
    "    #getter\n",
    "    def show(self):\n",
    "        print (self.__price)\n",
    "\n",
    "class SmartPhone(Phone):\n",
    "    def check(self):\n",
    "        print(self.__price)\n",
    "\n",
    "s=SmartPhone(20000, \"Apple\", 13)\n",
    "print(s.brand)\n",
    "s.show()\n",
    "s.check()"
   ]
  },
  {
   "cell_type": "code",
   "execution_count": 40,
   "metadata": {
    "colab": {
     "base_uri": "https://localhost:8080/"
    },
    "id": "4ehYsT2BS5Cm",
    "outputId": "5e27f6d1-0f60-4246-fd59-977e41dfd4f9"
   },
   "outputs": [
    {
     "name": "stdout",
     "output_type": "stream",
     "text": [
      "100\n",
      "This is in child class\n"
     ]
    }
   ],
   "source": [
    "class Parent:\n",
    "\n",
    "    def __init__(self,num):\n",
    "        self.__num=num\n",
    "\n",
    "    # getter method\n",
    "    def get_num(self):\n",
    "        return self.__num\n",
    "\n",
    "class Child(Parent):\n",
    "\n",
    "    def show(self):\n",
    "        print(\"This is in child class\")\n",
    "\n",
    "son=Child(100)\n",
    "print(son.get_num())\n",
    "son.show()"
   ]
  },
  {
   "cell_type": "code",
   "execution_count": 42,
   "metadata": {
    "colab": {
     "base_uri": "https://localhost:8080/",
     "height": 348
    },
    "id": "__jK3DNZS7-g",
    "outputId": "1cb66ea1-97e5-4589-d792-ec804c3ddb81"
   },
   "outputs": [
    {
     "ename": "AttributeError",
     "evalue": "'Child' object has no attribute '_Parent__num'",
     "output_type": "error",
     "traceback": [
      "\u001b[0;31m---------------------------------------------------------------------------\u001b[0m",
      "\u001b[0;31mAttributeError\u001b[0m                            Traceback (most recent call last)",
      "Cell \u001b[0;32mIn[42], line 18\u001b[0m\n\u001b[1;32m     15\u001b[0m         \u001b[38;5;28;01mreturn\u001b[39;00m \u001b[38;5;28mself\u001b[39m\u001b[38;5;241m.\u001b[39m__val\n\u001b[1;32m     17\u001b[0m son\u001b[38;5;241m=\u001b[39mChild(\u001b[38;5;241m100\u001b[39m,\u001b[38;5;241m10\u001b[39m)\n\u001b[0;32m---> 18\u001b[0m \u001b[38;5;28mprint\u001b[39m(\u001b[38;5;124m\"\u001b[39m\u001b[38;5;124mParent: Num:\u001b[39m\u001b[38;5;124m\"\u001b[39m,son\u001b[38;5;241m.\u001b[39mget_num()) \u001b[38;5;66;03m# throws an error, bcoz parent's constructor never got executed\u001b[39;00m\n\u001b[1;32m     19\u001b[0m \u001b[38;5;28mprint\u001b[39m(\u001b[38;5;124m\"\u001b[39m\u001b[38;5;124mChild: Val:\u001b[39m\u001b[38;5;124m\"\u001b[39m,son\u001b[38;5;241m.\u001b[39mget_val())\n",
      "Cell \u001b[0;32mIn[42], line 7\u001b[0m, in \u001b[0;36mParent.get_num\u001b[0;34m(self)\u001b[0m\n\u001b[1;32m      6\u001b[0m \u001b[38;5;28;01mdef\u001b[39;00m \u001b[38;5;21mget_num\u001b[39m(\u001b[38;5;28mself\u001b[39m):\n\u001b[0;32m----> 7\u001b[0m     \u001b[38;5;28;01mreturn\u001b[39;00m \u001b[38;5;28mself\u001b[39m\u001b[38;5;241m.\u001b[39m__num\n",
      "\u001b[0;31mAttributeError\u001b[0m: 'Child' object has no attribute '_Parent__num'"
     ]
    }
   ],
   "source": [
    "class Parent:\n",
    "\n",
    "    def __init__(self,num):\n",
    "        self.__num=num\n",
    "\n",
    "    def get_num(self):\n",
    "        return self.__num\n",
    "\n",
    "class Child(Parent):\n",
    "\n",
    "    def __init__(self,val,num):\n",
    "        self.__val=val\n",
    "\n",
    "    def get_val(self):\n",
    "        return self.__val\n",
    "\n",
    "son=Child(100,10)\n",
    "print(\"Parent: Num:\",son.get_num()) # throws an error, bcoz parent's constructor never got executed\n",
    "print(\"Child: Val:\",son.get_val())"
   ]
  },
  {
   "cell_type": "code",
   "execution_count": 46,
   "metadata": {
    "colab": {
     "base_uri": "https://localhost:8080/"
    },
    "id": "nyRDS-91TJA_",
    "outputId": "ca0f5671-e73a-467b-8c96-45f825e88eaa"
   },
   "outputs": [
    {
     "name": "stdout",
     "output_type": "stream",
     "text": [
      "class A : 100\n"
     ]
    }
   ],
   "source": [
    "class A:\n",
    "    def __init__(self):\n",
    "        self.var1=100\n",
    "\n",
    "    def display1(self,var1):\n",
    "        print(\"class A :\", self.var1) # var1 and self.var1 are completely different\n",
    "        \n",
    "class B(A):\n",
    "\n",
    "    def display2(self,var1):\n",
    "        print(\"class B :\", self.var1)\n",
    "\n",
    "obj=B()\n",
    "obj.display1(200)"
   ]
  },
  {
   "cell_type": "code",
   "execution_count": 48,
   "metadata": {
    "colab": {
     "base_uri": "https://localhost:8080/"
    },
    "id": "EgDguVtCTlsY",
    "outputId": "e9a17cfc-e48d-4967-90df-164a9fb9906e"
   },
   "outputs": [
    {
     "name": "stdout",
     "output_type": "stream",
     "text": [
      "Inside phone constructor\n",
      "Buying a smartphone\n"
     ]
    }
   ],
   "source": [
    "# Method Overriding\n",
    "# Agar parent and child class ke paas same naam se method ho, toh hamesha child class wala method execute hota hai\n",
    "\n",
    "class Phone:\n",
    "    def __init__(self, price, brand, camera):\n",
    "        print (\"Inside phone constructor\")\n",
    "        self.__price = price\n",
    "        self.brand = brand\n",
    "        self.camera = camera\n",
    "\n",
    "    def buy(self):\n",
    "        print (\"Buying a phone\")\n",
    "\n",
    "class SmartPhone(Phone):\n",
    "    def buy(self):\n",
    "        print (\"Buying a smartphone\")\n",
    "\n",
    "s=SmartPhone(20000, \"Apple\", 13)\n",
    "\n",
    "s.buy()"
   ]
  },
  {
   "cell_type": "markdown",
   "metadata": {
    "id": "O85epdv770M-"
   },
   "source": [
    "### Super Keyword\n",
    "It's a way to access methods of parent class\n",
    "1. cannot access attributes\n",
    "2. cannot be used outside the class\n",
    "3. is used inside the child class"
   ]
  },
  {
   "cell_type": "code",
   "execution_count": 55,
   "metadata": {
    "colab": {
     "base_uri": "https://localhost:8080/"
    },
    "id": "NR4F_NIo71hS",
    "outputId": "31d11020-10c1-47cd-81e0-6335ee6fc1f0"
   },
   "outputs": [
    {
     "name": "stdout",
     "output_type": "stream",
     "text": [
      "Inside phone constructor\n",
      "Buying a smartphone\n",
      "Buying a phone\n"
     ]
    }
   ],
   "source": [
    "class Phone:\n",
    "    def __init__(self, price, brand, camera):\n",
    "        print (\"Inside phone constructor\")\n",
    "        self.__price = price\n",
    "        self.brand = brand\n",
    "        self.camera = camera\n",
    "\n",
    "    def buy(self):\n",
    "        print (\"Buying a phone\")\n",
    "\n",
    "class SmartPhone(Phone):\n",
    "    def buy(self):\n",
    "        print (\"Buying a smartphone\")\n",
    "        # syntax to call parent ka buy method\n",
    "        super().buy()\n",
    "\n",
    "s=SmartPhone(20000, \"Apple\", 13)\n",
    "s.buy()"
   ]
  },
  {
   "cell_type": "code",
   "execution_count": 63,
   "metadata": {},
   "outputs": [
    {
     "name": "stdout",
     "output_type": "stream",
     "text": [
      "Inside phone constructor\n"
     ]
    },
    {
     "ename": "AttributeError",
     "evalue": "'SmartPhone' object has no attribute 'super'",
     "output_type": "error",
     "traceback": [
      "\u001b[0;31m---------------------------------------------------------------------------\u001b[0m",
      "\u001b[0;31mAttributeError\u001b[0m                            Traceback (most recent call last)",
      "Cell \u001b[0;32mIn[63], line 19\u001b[0m\n\u001b[1;32m     16\u001b[0m         \u001b[38;5;28mprint\u001b[39m (\u001b[38;5;124m\"\u001b[39m\u001b[38;5;124mBuying a smartphone\u001b[39m\u001b[38;5;124m\"\u001b[39m)\n\u001b[1;32m     18\u001b[0m s\u001b[38;5;241m=\u001b[39mSmartPhone(\u001b[38;5;241m20000\u001b[39m, \u001b[38;5;124m\"\u001b[39m\u001b[38;5;124mApple\u001b[39m\u001b[38;5;124m\"\u001b[39m, \u001b[38;5;241m13\u001b[39m)\n\u001b[0;32m---> 19\u001b[0m s\u001b[38;5;241m.\u001b[39msuper()\u001b[38;5;241m.\u001b[39mbuy()\n",
      "\u001b[0;31mAttributeError\u001b[0m: 'SmartPhone' object has no attribute 'super'"
     ]
    }
   ],
   "source": [
    "# using super outside the class\n",
    "# super keyword is always used inside the class (never outside)\n",
    "\n",
    "class Phone:\n",
    "    def __init__(self, price, brand, camera):\n",
    "        print (\"Inside phone constructor\")\n",
    "        self.__price = price\n",
    "        self.brand = brand\n",
    "        self.camera = camera\n",
    "\n",
    "    def buy(self):\n",
    "        print (\"Buying a phone\")\n",
    "\n",
    "class SmartPhone(Phone):\n",
    "    def buy(self):\n",
    "        print (\"Buying a smartphone\")\n",
    "\n",
    "s=SmartPhone(20000, \"Apple\", 13)\n",
    "s.super().buy() # throws error"
   ]
  },
  {
   "cell_type": "code",
   "execution_count": 67,
   "metadata": {
    "colab": {
     "base_uri": "https://localhost:8080/",
     "height": 366
    },
    "id": "KGIWVYdYUBAd",
    "outputId": "8e4228f8-af9c-4c72-d18c-6016808df3de"
   },
   "outputs": [
    {
     "name": "stdout",
     "output_type": "stream",
     "text": [
      "Inside phone constructor\n",
      "Buying a smartphone\n"
     ]
    },
    {
     "ename": "AttributeError",
     "evalue": "'super' object has no attribute 'brand'",
     "output_type": "error",
     "traceback": [
      "\u001b[0;31m---------------------------------------------------------------------------\u001b[0m",
      "\u001b[0;31mAttributeError\u001b[0m                            Traceback (most recent call last)",
      "Cell \u001b[0;32mIn[67], line 23\u001b[0m\n\u001b[1;32m     20\u001b[0m         \u001b[38;5;28mprint\u001b[39m(\u001b[38;5;28msuper\u001b[39m()\u001b[38;5;241m.\u001b[39mbrand)\n\u001b[1;32m     22\u001b[0m s\u001b[38;5;241m=\u001b[39mSmartPhone(\u001b[38;5;241m20000\u001b[39m, \u001b[38;5;124m\"\u001b[39m\u001b[38;5;124mApple\u001b[39m\u001b[38;5;124m\"\u001b[39m, \u001b[38;5;241m13\u001b[39m)\n\u001b[0;32m---> 23\u001b[0m s\u001b[38;5;241m.\u001b[39mbuy()\n",
      "Cell \u001b[0;32mIn[67], line 20\u001b[0m, in \u001b[0;36mSmartPhone.buy\u001b[0;34m(self)\u001b[0m\n\u001b[1;32m     18\u001b[0m \u001b[38;5;28mprint\u001b[39m (\u001b[38;5;124m\"\u001b[39m\u001b[38;5;124mBuying a smartphone\u001b[39m\u001b[38;5;124m\"\u001b[39m)\n\u001b[1;32m     19\u001b[0m \u001b[38;5;66;03m# syntax to call parent ka attribute 'brand'\u001b[39;00m\n\u001b[0;32m---> 20\u001b[0m \u001b[38;5;28mprint\u001b[39m(\u001b[38;5;28msuper\u001b[39m()\u001b[38;5;241m.\u001b[39mbrand)\n",
      "\u001b[0;31mAttributeError\u001b[0m: 'super' object has no attribute 'brand'"
     ]
    }
   ],
   "source": [
    "# can super access parent ka data?\n",
    "# using super outside the class\n",
    "\n",
    "# you can't access attributes using super keyword, you can access only methods\n",
    "\n",
    "class Phone:\n",
    "    def __init__(self, price, brand, camera):\n",
    "        print (\"Inside phone constructor\")\n",
    "        self.__price = price\n",
    "        self.brand = brand\n",
    "        self.camera = camera\n",
    "\n",
    "    def buy(self):\n",
    "        print (\"Buying a phone\")\n",
    "\n",
    "class SmartPhone(Phone):\n",
    "    def buy(self):\n",
    "        print (\"Buying a smartphone\")\n",
    "        # syntax to call parent ka attribute 'brand'\n",
    "        print(super().brand)\n",
    "\n",
    "s=SmartPhone(20000, \"Apple\", 13)\n",
    "s.buy()"
   ]
  },
  {
   "cell_type": "code",
   "execution_count": 61,
   "metadata": {
    "colab": {
     "base_uri": "https://localhost:8080/"
    },
    "id": "jPW3DV5GUKNJ",
    "outputId": "5e1dfad5-6f71-48dd-ceaa-7d5211136968"
   },
   "outputs": [
    {
     "name": "stdout",
     "output_type": "stream",
     "text": [
      "Inside smartphone constructor\n",
      "Inside phone constructor\n",
      "Inside smartphone constructor\n",
      "Android\n",
      "Samsung\n"
     ]
    }
   ],
   "source": [
    "# super -> constuctor\n",
    "\n",
    "class Phone:\n",
    "    def __init__(self, price, brand, camera):\n",
    "        print (\"Inside phone constructor\")\n",
    "        self.__price = price\n",
    "        self.brand = brand\n",
    "        self.camera = camera\n",
    "\n",
    "class SmartPhone(Phone):\n",
    "    def __init__(self, price, brand, camera, os, ram):\n",
    "        print('Inside smartphone constructor')\n",
    "        super().__init__(price, brand, camera)\n",
    "        self.os = os\n",
    "        self.ram = ram\n",
    "        print (\"Inside smartphone constructor\")\n",
    "\n",
    "s=SmartPhone(20000, \"Samsung\", 12, \"Android\", 2)\n",
    "\n",
    "print(s.os)\n",
    "print(s.brand)\n",
    "# print(s.__price) # throws error bcoz its private member of parent class"
   ]
  },
  {
   "cell_type": "markdown",
   "metadata": {
    "id": "_YE_kj_0Ufe4"
   },
   "source": [
    "##### Inheritance in summary\n",
    "\n",
    "- A class can inherit from another class.\n",
    "\n",
    "- Inheritance improves code reuse\n",
    "\n",
    "- Constructor, attributes, methods get inherited to the child class\n",
    "\n",
    "- The parent has no access to the child class\n",
    "\n",
    "- Private properties of parent are not accessible directly in child class\n",
    "\n",
    "- Child class can override the attributes or methods. This is called method overriding\n",
    "\n",
    "- super() is an inbuilt function which is used to invoke the parent class methods and constructor"
   ]
  },
  {
   "cell_type": "code",
   "execution_count": 70,
   "metadata": {
    "colab": {
     "base_uri": "https://localhost:8080/"
    },
    "id": "iHFjwJtBUuK3",
    "outputId": "0fc43374-9b51-498d-d1ba-12defba202f3"
   },
   "outputs": [
    {
     "name": "stdout",
     "output_type": "stream",
     "text": [
      "100\n",
      "200\n"
     ]
    }
   ],
   "source": [
    "class Parent:\n",
    "\n",
    "    def __init__(self,num):\n",
    "      self.__num=num\n",
    "\n",
    "    def get_num(self):\n",
    "      return self.__num\n",
    "\n",
    "class Child(Parent):\n",
    "\n",
    "    def __init__(self,num,val):\n",
    "      super().__init__(num)\n",
    "      self.__val=val\n",
    "\n",
    "    def get_val(self):\n",
    "      return self.__val\n",
    "\n",
    "son=Child(100,200)\n",
    "print(son.get_num())\n",
    "print(son.get_val())"
   ]
  },
  {
   "cell_type": "code",
   "execution_count": 72,
   "metadata": {
    "colab": {
     "base_uri": "https://localhost:8080/"
    },
    "id": "szLznZ0bUvRj",
    "outputId": "0306224c-7467-420d-dbdb-d13e2c4e6a05"
   },
   "outputs": [
    {
     "name": "stdout",
     "output_type": "stream",
     "text": [
      "100\n",
      "200\n"
     ]
    }
   ],
   "source": [
    "class Parent:\n",
    "    def __init__(self):\n",
    "        self.num=100\n",
    "\n",
    "class Child(Parent):\n",
    "\n",
    "    def __init__(self):\n",
    "        super().__init__()\n",
    "        self.var=200\n",
    "\n",
    "    def show(self):\n",
    "        print(self.num)\n",
    "        print(self.var)\n",
    "\n",
    "son=Child()\n",
    "son.show()"
   ]
  },
  {
   "cell_type": "code",
   "execution_count": 74,
   "metadata": {
    "colab": {
     "base_uri": "https://localhost:8080/"
    },
    "id": "1v9P77SdU5z9",
    "outputId": "d81815d0-a87f-4335-d486-744e6c5e239d"
   },
   "outputs": [
    {
     "name": "stdout",
     "output_type": "stream",
     "text": [
      "Child: 10\n"
     ]
    }
   ],
   "source": [
    "class Parent:\n",
    "    def __init__(self):\n",
    "        self.__num=100\n",
    "\n",
    "    def show(self):\n",
    "        print(\"Parent:\",self.__num)\n",
    "\n",
    "class Child(Parent):\n",
    "    def __init__(self):\n",
    "        super().__init__()\n",
    "        self.__var=10\n",
    "\n",
    "    def show(self):\n",
    "        print(\"Child:\",self.__var)\n",
    "\n",
    "obj=Child()\n",
    "obj.show()"
   ]
  },
  {
   "cell_type": "markdown",
   "metadata": {
    "id": "q9WZMWV18G4Q"
   },
   "source": [
    "### Types of Inheritance\n",
    "\n",
    "- Single Inheritance\n",
    "- Multilevel Inheritance\n",
    "- Hierarchical Inheritance\n",
    "- Multiple Inheritance(Diamond Problem)\n",
    "- Hybrid Inheritance"
   ]
  },
  {
   "cell_type": "code",
   "execution_count": 76,
   "metadata": {
    "colab": {
     "base_uri": "https://localhost:8080/"
    },
    "id": "OehIWuKS8JZm",
    "outputId": "69dde2a0-8b7e-49fd-f7a7-e86f4c2261e1"
   },
   "outputs": [
    {
     "name": "stdout",
     "output_type": "stream",
     "text": [
      "Inside phone constructor\n",
      "Buying a phone\n"
     ]
    }
   ],
   "source": [
    "# single inheritance\n",
    "\n",
    "class Phone:\n",
    "    def __init__(self, price, brand, camera):\n",
    "        print (\"Inside phone constructor\")\n",
    "        self.__price = price\n",
    "        self.brand = brand\n",
    "        self.camera = camera\n",
    "\n",
    "    def buy(self):\n",
    "        print (\"Buying a phone\")\n",
    "\n",
    "class SmartPhone(Phone):\n",
    "    pass\n",
    "\n",
    "SmartPhone(1000,\"Apple\",\"13px\").buy()"
   ]
  },
  {
   "cell_type": "code",
   "execution_count": 78,
   "metadata": {
    "colab": {
     "base_uri": "https://localhost:8080/"
    },
    "id": "jGcAw7QtV1vN",
    "outputId": "9800414e-1785-4f14-9a1d-514fb3f03b39"
   },
   "outputs": [
    {
     "name": "stdout",
     "output_type": "stream",
     "text": [
      "Inside phone constructor\n",
      "Buying a phone\n",
      "Product customer review\n"
     ]
    }
   ],
   "source": [
    "# multilevel\n",
    "\n",
    "class Product:\n",
    "    def review(self):\n",
    "        print (\"Product customer review\")\n",
    "\n",
    "class Phone(Product):\n",
    "    def __init__(self, price, brand, camera):\n",
    "        print (\"Inside phone constructor\")\n",
    "        self.__price = price\n",
    "        self.brand = brand\n",
    "        self.camera = camera\n",
    "\n",
    "    def buy(self):\n",
    "        print (\"Buying a phone\")\n",
    "\n",
    "class SmartPhone(Phone):\n",
    "    pass\n",
    "\n",
    "s=SmartPhone(20000, \"Apple\", 12)\n",
    "\n",
    "s.buy()\n",
    "s.review()"
   ]
  },
  {
   "cell_type": "code",
   "execution_count": 80,
   "metadata": {
    "colab": {
     "base_uri": "https://localhost:8080/"
    },
    "id": "axM6rE1HWA2d",
    "outputId": "0a5896e9-8301-4be2-8b2e-599354183b64"
   },
   "outputs": [
    {
     "name": "stdout",
     "output_type": "stream",
     "text": [
      "Inside phone constructor\n",
      "Buying a phone\n",
      "Inside phone constructor\n",
      "Buying a phone\n"
     ]
    }
   ],
   "source": [
    "# Hierarchical: 1 parent & multiple children\n",
    "\n",
    "class Phone:\n",
    "    def __init__(self, price, brand, camera):\n",
    "        print (\"Inside phone constructor\")\n",
    "        self.__price = price\n",
    "        self.brand = brand\n",
    "        self.camera = camera\n",
    "\n",
    "    def buy(self):\n",
    "        print (\"Buying a phone\")\n",
    "\n",
    "class SmartPhone(Phone):\n",
    "    pass\n",
    "\n",
    "class FeaturePhone(Phone):\n",
    "    pass\n",
    "\n",
    "SmartPhone(1000,\"Apple\",\"13px\").buy()\n",
    "FeaturePhone(10,\"Lava\",\"1px\").buy()"
   ]
  },
  {
   "cell_type": "code",
   "execution_count": 82,
   "metadata": {
    "colab": {
     "base_uri": "https://localhost:8080/"
    },
    "id": "MPY34iq8WWGw",
    "outputId": "58b6e426-a8ba-4a9e-c997-a1a65a768de2"
   },
   "outputs": [
    {
     "name": "stdout",
     "output_type": "stream",
     "text": [
      "Inside phone constructor\n",
      "Buying a phone\n",
      "Customer review\n"
     ]
    }
   ],
   "source": [
    "# Multiple: multiple parents & 1 child\n",
    "\n",
    "class Phone:\n",
    "    def __init__(self, price, brand, camera):\n",
    "        print (\"Inside phone constructor\")\n",
    "        self.__price = price\n",
    "        self.brand = brand\n",
    "        self.camera = camera\n",
    "\n",
    "    def buy(self):\n",
    "        print (\"Buying a phone\")\n",
    "\n",
    "class Product:\n",
    "    def review(self):\n",
    "        print (\"Customer review\")\n",
    "\n",
    "class SmartPhone(Phone, Product): # this child inherits both the parents\n",
    "    pass\n",
    "\n",
    "s=SmartPhone(20000, \"Apple\", 12)\n",
    "\n",
    "s.buy()\n",
    "s.review()"
   ]
  },
  {
   "cell_type": "code",
   "execution_count": 92,
   "metadata": {
    "colab": {
     "base_uri": "https://localhost:8080/"
    },
    "id": "I2ixigsSWagF",
    "outputId": "ecde3fef-f9a7-469e-b0c4-ff0ef60d3b3b"
   },
   "outputs": [
    {
     "name": "stdout",
     "output_type": "stream",
     "text": [
      "Inside phone constructor\n",
      "Buying a phone\n"
     ]
    }
   ],
   "source": [
    "# hybrid: combination of multiple types of inheritance\n",
    "# the diamond problem\n",
    "# https://stackoverflow.com/questions/56361048/what-is-the-diamond-problem-in-python-and-why-its-not-appear-in-python2\n",
    "\n",
    "class Phone:\n",
    "    def __init__(self, price, brand, camera):\n",
    "        print (\"Inside phone constructor\")\n",
    "        self.__price = price\n",
    "        self.brand = brand\n",
    "        self.camera = camera\n",
    "\n",
    "    def buy(self):\n",
    "        print (\"Buying a phone\")\n",
    "\n",
    "class Product:\n",
    "    def buy(self):\n",
    "        print (\"Product buy method\")\n",
    "\n",
    "# Method resolution order (MRO)\n",
    "class SmartPhone(Phone,Product):\n",
    "    pass\n",
    "\n",
    "s=SmartPhone(20000, \"Apple\", 12)\n",
    "\n",
    "s.buy() # executes buy() method of class that is written first in inheritance declaration (i.e. Phone)"
   ]
  },
  {
   "cell_type": "code",
   "execution_count": 94,
   "metadata": {
    "colab": {
     "base_uri": "https://localhost:8080/"
    },
    "id": "sA_UVGoRWr7W",
    "outputId": "e71fe50b-c725-4c5f-a1d0-0dbc186fcfd0"
   },
   "outputs": [
    {
     "name": "stdout",
     "output_type": "stream",
     "text": [
      "70\n"
     ]
    }
   ],
   "source": [
    "class A:\n",
    "\n",
    "    def m1(self):\n",
    "        return 20\n",
    "\n",
    "class B(A):\n",
    "\n",
    "    def m1(self):\n",
    "        return 30\n",
    "\n",
    "    def m2(self):\n",
    "        return 40\n",
    "\n",
    "class C(B):\n",
    "\n",
    "    def m2(self):\n",
    "        return 20\n",
    "        \n",
    "obj1=A()\n",
    "obj2=B()\n",
    "obj3=C()\n",
    "\n",
    "print(obj1.m1() + obj3.m1()+ obj3.m2())"
   ]
  },
  {
   "cell_type": "code",
   "execution_count": 102,
   "metadata": {
    "colab": {
     "base_uri": "https://localhost:8080/",
     "height": 390
    },
    "id": "ogbluGw-Wu3c",
    "outputId": "a08d2384-c4c3-4bd7-b7ac-896b22d98711"
   },
   "outputs": [
    {
     "ename": "RecursionError",
     "evalue": "maximum recursion depth exceeded",
     "output_type": "error",
     "traceback": [
      "\u001b[0;31m---------------------------------------------------------------------------\u001b[0m",
      "\u001b[0;31mRecursionError\u001b[0m                            Traceback (most recent call last)",
      "Cell \u001b[0;32mIn[102], line 20\u001b[0m\n\u001b[1;32m     16\u001b[0m         \u001b[38;5;28;01mreturn\u001b[39;00m val\n\u001b[1;32m     18\u001b[0m obj\u001b[38;5;241m=\u001b[39mC()\n\u001b[0;32m---> 20\u001b[0m \u001b[38;5;28mprint\u001b[39m(obj\u001b[38;5;241m.\u001b[39mm1())\n",
      "Cell \u001b[0;32mIn[102], line 15\u001b[0m, in \u001b[0;36mC.m1\u001b[0;34m(self)\u001b[0m\n\u001b[1;32m     14\u001b[0m \u001b[38;5;28;01mdef\u001b[39;00m \u001b[38;5;21mm1\u001b[39m(\u001b[38;5;28mself\u001b[39m):\n\u001b[0;32m---> 15\u001b[0m     val\u001b[38;5;241m=\u001b[39m\u001b[38;5;28mself\u001b[39m\u001b[38;5;241m.\u001b[39mm1()\u001b[38;5;241m+\u001b[39m\u001b[38;5;241m20\u001b[39m \u001b[38;5;66;03m# infinite recursion\u001b[39;00m\n\u001b[1;32m     16\u001b[0m     \u001b[38;5;28;01mreturn\u001b[39;00m val\n",
      "Cell \u001b[0;32mIn[102], line 15\u001b[0m, in \u001b[0;36mC.m1\u001b[0;34m(self)\u001b[0m\n\u001b[1;32m     14\u001b[0m \u001b[38;5;28;01mdef\u001b[39;00m \u001b[38;5;21mm1\u001b[39m(\u001b[38;5;28mself\u001b[39m):\n\u001b[0;32m---> 15\u001b[0m     val\u001b[38;5;241m=\u001b[39m\u001b[38;5;28mself\u001b[39m\u001b[38;5;241m.\u001b[39mm1()\u001b[38;5;241m+\u001b[39m\u001b[38;5;241m20\u001b[39m \u001b[38;5;66;03m# infinite recursion\u001b[39;00m\n\u001b[1;32m     16\u001b[0m     \u001b[38;5;28;01mreturn\u001b[39;00m val\n",
      "    \u001b[0;31m[... skipping similar frames: C.m1 at line 15 (2975 times)]\u001b[0m\n",
      "Cell \u001b[0;32mIn[102], line 15\u001b[0m, in \u001b[0;36mC.m1\u001b[0;34m(self)\u001b[0m\n\u001b[1;32m     14\u001b[0m \u001b[38;5;28;01mdef\u001b[39;00m \u001b[38;5;21mm1\u001b[39m(\u001b[38;5;28mself\u001b[39m):\n\u001b[0;32m---> 15\u001b[0m     val\u001b[38;5;241m=\u001b[39m\u001b[38;5;28mself\u001b[39m\u001b[38;5;241m.\u001b[39mm1()\u001b[38;5;241m+\u001b[39m\u001b[38;5;241m20\u001b[39m \u001b[38;5;66;03m# infinite recursion\u001b[39;00m\n\u001b[1;32m     16\u001b[0m     \u001b[38;5;28;01mreturn\u001b[39;00m val\n",
      "\u001b[0;31mRecursionError\u001b[0m: maximum recursion depth exceeded"
     ]
    }
   ],
   "source": [
    "class A:\n",
    "\n",
    "    def m1(self):\n",
    "        return 20\n",
    "\n",
    "class B(A):\n",
    "\n",
    "    def m1(self):\n",
    "        val=super().m1()+30\n",
    "        return val\n",
    "\n",
    "class C(B):\n",
    "\n",
    "    def m1(self):\n",
    "        val=self.m1()+20 # infinite recursion\n",
    "        return val\n",
    "        \n",
    "obj=C()\n",
    "\n",
    "print(obj.m1())"
   ]
  },
  {
   "cell_type": "markdown",
   "metadata": {
    "id": "TvZX-Zw9FtKB"
   },
   "source": [
    "### Polymorphism\n",
    "Having multiple faces (same cheez jab situation ke hisaab se alag alag dhang se behave kare)\n",
    "- Method Overriding\n",
    "- Method Overloading\n",
    "- Operator Overloading"
   ]
  },
  {
   "cell_type": "code",
   "execution_count": 108,
   "metadata": {},
   "outputs": [
    {
     "ename": "TypeError",
     "evalue": "Shape.area() missing 1 required positional argument: 'b'",
     "output_type": "error",
     "traceback": [
      "\u001b[0;31m---------------------------------------------------------------------------\u001b[0m",
      "\u001b[0;31mTypeError\u001b[0m                                 Traceback (most recent call last)",
      "Cell \u001b[0;32mIn[108], line 14\u001b[0m\n\u001b[1;32m     10\u001b[0m         \u001b[38;5;28;01mreturn\u001b[39;00m l\u001b[38;5;241m*\u001b[39mb\n\u001b[1;32m     12\u001b[0m s \u001b[38;5;241m=\u001b[39m Shape()\n\u001b[0;32m---> 14\u001b[0m \u001b[38;5;28mprint\u001b[39m(s\u001b[38;5;241m.\u001b[39marea(\u001b[38;5;241m2\u001b[39m))\n\u001b[1;32m     15\u001b[0m \u001b[38;5;28mprint\u001b[39m(s\u001b[38;5;241m.\u001b[39marea(\u001b[38;5;241m3\u001b[39m,\u001b[38;5;241m4\u001b[39m))\n",
      "\u001b[0;31mTypeError\u001b[0m: Shape.area() missing 1 required positional argument: 'b'"
     ]
    }
   ],
   "source": [
    "# Method Overloading is not natively supported in Python\n",
    "# It considers the latest written definition of the function\n",
    "\n",
    "class Shape:\n",
    "\n",
    "    def area(self,r):\n",
    "        return 3.14*r*r\n",
    "\n",
    "    def area(self,l,b):\n",
    "        return l*b\n",
    "\n",
    "s = Shape()\n",
    "\n",
    "print(s.area(2))\n",
    "print(s.area(3,4))"
   ]
  },
  {
   "cell_type": "code",
   "execution_count": 114,
   "metadata": {
    "colab": {
     "base_uri": "https://localhost:8080/"
    },
    "id": "wuVzSLONF0ha",
    "outputId": "c0ef3d86-9a4b-4d2f-f6b4-2ca8b7d42764"
   },
   "outputs": [
    {
     "name": "stdout",
     "output_type": "stream",
     "text": [
      "12.56\n",
      "12\n"
     ]
    }
   ],
   "source": [
    "# In python, method overloading is done using default arguments\n",
    "\n",
    "class Shape:\n",
    "\n",
    "  def area(self,a,b=0):\n",
    "    if b == 0:\n",
    "      return 3.14*a*a\n",
    "    else:\n",
    "      return a*b\n",
    "\n",
    "s = Shape()\n",
    "\n",
    "print(s.area(2))\n",
    "print(s.area(3,4))"
   ]
  },
  {
   "cell_type": "code",
   "execution_count": 112,
   "metadata": {
    "colab": {
     "base_uri": "https://localhost:8080/",
     "height": 36
    },
    "id": "3-SJbwpMXE4J",
    "outputId": "1fb14d61-32b2-4267-e997-edbd98de1c22"
   },
   "outputs": [
    {
     "name": "stdout",
     "output_type": "stream",
     "text": [
      "helloworld\n",
      "9\n",
      "[1, 2, 3, 4, 5]\n"
     ]
    }
   ],
   "source": [
    "# Operator Overloading\n",
    "\n",
    "print('hello' + 'world') # concatenation\n",
    "print(4 + 5) # addition\n",
    "print([1,2,3] + [4,5]) # merging"
   ]
  },
  {
   "cell_type": "markdown",
   "metadata": {
    "id": "FHZlflrSF1Df"
   },
   "source": [
    "### Abstraction\n",
    "Abstraction allows a higher-level class to enforce that certain functionalities must be implemented by the lower-level (child) class."
   ]
  },
  {
   "cell_type": "code",
   "execution_count": 130,
   "metadata": {
    "id": "EFrfU_45F2wx"
   },
   "outputs": [],
   "source": [
    "from abc import ABC,abstractmethod\n",
    "\n",
    "# For becoming abstract class, there are 2 requirements:\n",
    "# 1. It should inherit ABC class\n",
    "# 2. It should've atleast 1 abstract method\n",
    "\n",
    "class BankApp(ABC):\n",
    "\n",
    "  def database(self):\n",
    "    print('connected to database')\n",
    "\n",
    "  @abstractmethod\n",
    "  def security(self):\n",
    "    pass\n",
    "\n",
    "  @abstractmethod\n",
    "  def display(self):\n",
    "    pass"
   ]
  },
  {
   "cell_type": "code",
   "execution_count": 132,
   "metadata": {
    "colab": {
     "base_uri": "https://localhost:8080/",
     "height": 169
    },
    "id": "hvVMYalv6v3j",
    "outputId": "2809badf-e568-4a87-ddfb-1f64d944900d"
   },
   "outputs": [
    {
     "ename": "TypeError",
     "evalue": "Can't instantiate abstract class BankApp without an implementation for abstract methods 'display', 'security'",
     "output_type": "error",
     "traceback": [
      "\u001b[0;31m---------------------------------------------------------------------------\u001b[0m",
      "\u001b[0;31mTypeError\u001b[0m                                 Traceback (most recent call last)",
      "Cell \u001b[0;32mIn[132], line 3\u001b[0m\n\u001b[1;32m      1\u001b[0m \u001b[38;5;66;03m# Asbtract class can't be instantiated (we can't make object of Abstract class)\u001b[39;00m\n\u001b[0;32m----> 3\u001b[0m obj \u001b[38;5;241m=\u001b[39m BankApp()\n",
      "\u001b[0;31mTypeError\u001b[0m: Can't instantiate abstract class BankApp without an implementation for abstract methods 'display', 'security'"
     ]
    }
   ],
   "source": [
    "# Asbtract class can't be instantiated (we can't make object of Abstract class)\n",
    "\n",
    "obj = BankApp()"
   ]
  },
  {
   "cell_type": "code",
   "execution_count": 134,
   "metadata": {
    "id": "_KULGDqYxtwk"
   },
   "outputs": [],
   "source": [
    "# App BankApp ko tab tak inherit nahi kar sakte jab tak aap BankApp ka abstract method apne class mei add nahi karte\n",
    "\n",
    "class MobileApp(BankApp):\n",
    "\n",
    "  def mobile_login(self):\n",
    "    print('login into mobile')\n",
    "\n",
    "  def security(self):\n",
    "    print('mobile security')\n",
    "\n",
    "  def display(self):\n",
    "    print('display')"
   ]
  },
  {
   "cell_type": "code",
   "execution_count": 140,
   "metadata": {
    "id": "WlGxjLHz6J94"
   },
   "outputs": [
    {
     "name": "stdout",
     "output_type": "stream",
     "text": [
      "mobile security\n",
      "display\n"
     ]
    }
   ],
   "source": [
    "mob = MobileApp()\n",
    "\n",
    "mob.security()\n",
    "mob.display()"
   ]
  },
  {
   "cell_type": "code",
   "execution_count": null,
   "metadata": {
    "id": "OvdixiRJ7kDn"
   },
   "outputs": [],
   "source": []
  }
 ],
 "metadata": {
  "colab": {
   "provenance": []
  },
  "kernelspec": {
   "display_name": "Python [conda env:base] *",
   "language": "python",
   "name": "conda-base-py"
  },
  "language_info": {
   "codemirror_mode": {
    "name": "ipython",
    "version": 3
   },
   "file_extension": ".py",
   "mimetype": "text/x-python",
   "name": "python",
   "nbconvert_exporter": "python",
   "pygments_lexer": "ipython3",
   "version": "3.12.7"
  }
 },
 "nbformat": 4,
 "nbformat_minor": 4
}

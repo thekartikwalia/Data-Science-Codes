{
 "cells": [
  {
   "cell_type": "markdown",
   "metadata": {
    "id": "JUmWTebLbjwN"
   },
   "source": [
    "### Write OOP classes to handle the following scenarios:\n",
    "\n",
    "- A user can create and view 2D coordinates\n",
    "- A user can find out the distance between 2 coordinates\n",
    "- A user can find find the distance of a coordinate from origin\n",
    "- A user can check if a point lies on a given line\n",
    "- A user can find the distance between a given 2D point and a given line\n",
    "\n"
   ]
  },
  {
   "cell_type": "code",
   "execution_count": 20,
   "metadata": {
    "id": "2jfIFsMocjN3"
   },
   "outputs": [],
   "source": [
    "class Point:\n",
    "\n",
    "  def __init__(self,x,y):\n",
    "    self.x_cod = x\n",
    "    self.y_cod = y\n",
    "\n",
    "  def __str__(self):\n",
    "    return '<{},{}>'.format(self.x_cod,self.y_cod)\n",
    "\n",
    "  def euclidean_distance(self,other):\n",
    "    return ((self.x_cod - other.x_cod)**2 + (self.y_cod - other.y_cod)**2)**0.5\n",
    "\n",
    "  def distance_from_origin(self):\n",
    "    return (self.x_cod**2 + self.y_cod**2)**0.5\n",
    "    # return self.euclidean_distance(Point(0,0)) # you can create object of a class even inside the class\n",
    "\n",
    "\n",
    "class Line:\n",
    "\n",
    "  def __init__(self,A,B,C):\n",
    "    self.A = A\n",
    "    self.B = B\n",
    "    self.C = C\n",
    "\n",
    "  def __str__(self):\n",
    "    return '{}x + {}y + {} = 0'.format(self.A,self.B,self.C)\n",
    "\n",
    "  def point_on_line(self,point):\n",
    "    if self.A*point.x_cod + self.B*point.y_cod + self.C == 0:\n",
    "      return \"lies on the line\"\n",
    "    else:\n",
    "      return \"does not lie on the line\"\n",
    "\n",
    "  def shortest_distance(self,point):\n",
    "    return abs(self.A*point.x_cod + self.B*point.y_cod + self.C)/(self.A**2 + self.B**2)**0.5\n"
   ]
  },
  {
   "cell_type": "code",
   "execution_count": 24,
   "metadata": {
    "colab": {
     "base_uri": "https://localhost:8080/"
    },
    "id": "z3QeFQu07dpO",
    "outputId": "0af4fec2-739e-42f5-fcb5-428f5ea425fe"
   },
   "outputs": [
    {
     "name": "stdout",
     "output_type": "stream",
     "text": [
      "1x + 1y + -2 = 0\n",
      "<1,10>\n",
      "<1,1>\n",
      "10.04987562112089\n",
      "10.04987562112089\n",
      "6.363961030678928\n",
      "lies on the line\n",
      "0.0\n"
     ]
    }
   ],
   "source": [
    "l1 = Line(1,1,-2)\n",
    "p1 = Point(1,10)\n",
    "p2 = Point(0,0)\n",
    "p3 = Point(1,1)\n",
    "print(l1)\n",
    "print(p1)\n",
    "print(p3)\n",
    "\n",
    "print(p1.euclidean_distance(p2))\n",
    "print(p1.distance_from_origin())\n",
    "print(l1.shortest_distance(p1))\n",
    "print(l1.point_on_line(p3))\n",
    "print(l1.shortest_distance(p3))"
   ]
  },
  {
   "cell_type": "markdown",
   "metadata": {
    "id": "s6n-PpwgfiMv"
   },
   "source": [
    "### How objects access attributes"
   ]
  },
  {
   "cell_type": "code",
   "execution_count": 28,
   "metadata": {
    "id": "XUwz5NX3fl3p"
   },
   "outputs": [],
   "source": [
    "class Person:\n",
    "\n",
    "  def __init__(self,name_input,country_input):\n",
    "    self.name = name_input\n",
    "    self.country = country_input\n",
    "\n",
    "  def greet(self):\n",
    "    if self.country == 'india':\n",
    "      print('Namaste',self.name)\n",
    "    else:\n",
    "      print('Hello',self.name)\n"
   ]
  },
  {
   "cell_type": "code",
   "execution_count": 34,
   "metadata": {
    "id": "Eb_wD7mkh-sK"
   },
   "outputs": [
    {
     "name": "stdout",
     "output_type": "stream",
     "text": [
      "kartik\n",
      "india\n",
      "Namaste kartik\n"
     ]
    }
   ],
   "source": [
    "p = Person('kartik','india')\n",
    "\n",
    "# how to access attributes\n",
    "print(p.name)\n",
    "print(p.country)\n",
    "\n",
    "# how to access methods\n",
    "p.greet()"
   ]
  },
  {
   "cell_type": "code",
   "execution_count": 36,
   "metadata": {
    "colab": {
     "base_uri": "https://localhost:8080/",
     "height": 187
    },
    "id": "LyBkKlAviG-x",
    "outputId": "66fd0bf4-9d2e-4d3b-d0fd-3d3593849d25"
   },
   "outputs": [
    {
     "ename": "AttributeError",
     "evalue": "'Person' object has no attribute 'gender'",
     "output_type": "error",
     "traceback": [
      "\u001b[0;31m---------------------------------------------------------------------------\u001b[0m",
      "\u001b[0;31mAttributeError\u001b[0m                            Traceback (most recent call last)",
      "Cell \u001b[0;32mIn[36], line 2\u001b[0m\n\u001b[1;32m      1\u001b[0m \u001b[38;5;66;03m# what if i try to access non-existent attributes\u001b[39;00m\n\u001b[0;32m----> 2\u001b[0m p\u001b[38;5;241m.\u001b[39mgender\n",
      "\u001b[0;31mAttributeError\u001b[0m: 'Person' object has no attribute 'gender'"
     ]
    }
   ],
   "source": [
    "# what if i try to access non-existent attributes\n",
    "p.gender"
   ]
  },
  {
   "cell_type": "markdown",
   "metadata": {
    "id": "gFxMl3Gpfmq-"
   },
   "source": [
    "### Attribute creation from outside of the class"
   ]
  },
  {
   "cell_type": "code",
   "execution_count": 39,
   "metadata": {
    "id": "Ab2M4VwRfp6G"
   },
   "outputs": [],
   "source": [
    "p.gender = 'male'"
   ]
  },
  {
   "cell_type": "code",
   "execution_count": 41,
   "metadata": {
    "colab": {
     "base_uri": "https://localhost:8080/",
     "height": 36
    },
    "id": "YquKhn88NXEZ",
    "outputId": "2d07e3aa-14d3-4016-cba2-8de3ac9c1fa5"
   },
   "outputs": [
    {
     "data": {
      "text/plain": [
       "'male'"
      ]
     },
     "execution_count": 41,
     "metadata": {},
     "output_type": "execute_result"
    }
   ],
   "source": [
    "p.gender"
   ]
  },
  {
   "cell_type": "markdown",
   "metadata": {
    "id": "s26UEjp6fqjn"
   },
   "source": [
    "### Reference Variables\n",
    "\n",
    "- Reference variables hold the objects\n",
    "- We can create objects without reference variable as well\n",
    "- An object can have multiple reference variables\n",
    "- Assigning a new reference variable to an existing object does not create a new object"
   ]
  },
  {
   "cell_type": "code",
   "execution_count": 59,
   "metadata": {
    "id": "FAoqeNdQfsrB"
   },
   "outputs": [],
   "source": [
    "# object without a reference\n",
    "class Person:\n",
    "\n",
    "  def __init__(self):\n",
    "    self.name = 'kartik'\n",
    "    self.gender = 'male'\n",
    "\n",
    "p = Person() # p is not the object, it contains address of the object (p is reference variable which contains ref of object created)\n",
    "q = p"
   ]
  },
  {
   "cell_type": "code",
   "execution_count": 61,
   "metadata": {
    "colab": {
     "base_uri": "https://localhost:8080/"
    },
    "id": "oaJcQhkRfuGP",
    "outputId": "c0561a5e-f2d7-4e24-c8b1-5ec0a3a52372"
   },
   "outputs": [
    {
     "name": "stdout",
     "output_type": "stream",
     "text": [
      "4960524272\n",
      "4960524272\n"
     ]
    }
   ],
   "source": [
    "# Multiple ref\n",
    "\n",
    "print(id(p))\n",
    "print(id(q))"
   ]
  },
  {
   "cell_type": "code",
   "execution_count": 65,
   "metadata": {
    "id": "Ycm-nWU6fscq"
   },
   "outputs": [
    {
     "name": "stdout",
     "output_type": "stream",
     "text": [
      "mayank\n",
      "mayank\n",
      "mayank\n",
      "mayank\n"
     ]
    }
   ],
   "source": [
    "# change attribute value with the help of 2nd object\n",
    "\n",
    "print(p.name)\n",
    "print(q.name)\n",
    "\n",
    "# Due to concept of reference, changes done via q are reflected in p as well (bcoz both p & q points to same address)\n",
    "q.name = 'mayank'\n",
    "print(q.name)\n",
    "print(p.name)"
   ]
  },
  {
   "cell_type": "markdown",
   "metadata": {
    "id": "4nqDJqJvfukO"
   },
   "source": [
    "### Pass by reference"
   ]
  },
  {
   "cell_type": "code",
   "execution_count": 67,
   "metadata": {
    "colab": {
     "base_uri": "https://localhost:8080/"
    },
    "id": "noYvRkMmfwMl",
    "outputId": "2e61b55e-133c-4f15-9dc4-c29a416658d9"
   },
   "outputs": [
    {
     "name": "stdout",
     "output_type": "stream",
     "text": [
      "Hi my name is kartik and I am a male\n",
      "ankit\n",
      "male\n"
     ]
    }
   ],
   "source": [
    "class Person:\n",
    "\n",
    "  def __init__(self,name,gender):\n",
    "    self.name = name\n",
    "    self.gender = gender\n",
    "\n",
    "# outside the class -> function\n",
    "# we can pass object as input to a function\n",
    "# infact reverse can also be done, i.e. function can return object as well\n",
    "def greet(person): \n",
    "  print('Hi my name is',person.name,'and I am a',person.gender)\n",
    "  p1 = Person('ankit','male')\n",
    "  return p1\n",
    "\n",
    "p = Person('kartik','male')\n",
    "x = greet(p)\n",
    "print(x.name)\n",
    "print(x.gender)"
   ]
  },
  {
   "cell_type": "code",
   "execution_count": 71,
   "metadata": {
    "colab": {
     "base_uri": "https://localhost:8080/"
    },
    "id": "8ddbyX3hHryA",
    "outputId": "b902e987-9199-4637-c88c-ca5154bf31bb"
   },
   "outputs": [
    {
     "name": "stdout",
     "output_type": "stream",
     "text": [
      "4369136432\n",
      "4369136432\n",
      "ankit\n",
      "ankit\n"
     ]
    }
   ],
   "source": [
    "class Person:\n",
    "\n",
    "  def __init__(self,name,gender):\n",
    "    self.name = name\n",
    "    self.gender = gender\n",
    "\n",
    "# outside the class -> function\n",
    "def greet(person): # technically we didn't sent an object, we sent a reference\n",
    "  print(id(person))\n",
    "  person.name = 'ankit'\n",
    "  print(person.name)\n",
    "\n",
    "p = Person('nitish','male')\n",
    "print(id(p))\n",
    "greet(p)\n",
    "print(p.name)"
   ]
  },
  {
   "cell_type": "markdown",
   "metadata": {
    "id": "gRNNs9_DFvud"
   },
   "source": [
    "### Object ki mutability"
   ]
  },
  {
   "cell_type": "code",
   "execution_count": 79,
   "metadata": {
    "colab": {
     "base_uri": "https://localhost:8080/"
    },
    "id": "GcBsQGR_Fy5E",
    "outputId": "e1048f8e-45c0-4ff0-8a2b-78578b81f23b"
   },
   "outputs": [
    {
     "name": "stdout",
     "output_type": "stream",
     "text": [
      "4960529072\n",
      "4960529072\n"
     ]
    }
   ],
   "source": [
    "class Person:\n",
    "\n",
    "  def __init__(self,name,gender):\n",
    "    self.name = name\n",
    "    self.gender = gender\n",
    "\n",
    "# outside the class -> function\n",
    "def greet(person):\n",
    "  person.name = 'ankit' # in case of immutable, after this modification the address would had been gotten changed\n",
    "  return person\n",
    "\n",
    "p = Person('nitish','male')\n",
    "print(id(p))\n",
    "p1 = greet(p)\n",
    "print(id(p1))\n",
    "\n",
    "# memory address of p1 remains same as p \n",
    "# bcoz objects of user-defined classes are mutable in python \n",
    "# In case of immutable object, the id of p1 and p would be different \n",
    "\n",
    "# Hence, Objects of user-defined classes are mutable by default (in python)"
   ]
  },
  {
   "cell_type": "markdown",
   "metadata": {
    "id": "A2Opzki1fw7x"
   },
   "source": [
    "### Encapsulation"
   ]
  },
  {
   "cell_type": "code",
   "execution_count": 91,
   "metadata": {
    "id": "yLRvYq47fyvp"
   },
   "outputs": [],
   "source": [
    "# instance variable\n",
    "\n",
    "# instance variables are variables which have different values for different objects \n",
    "# instance variable is a special kind of variable whose value depends upon the object\n",
    "\n",
    "class Person:\n",
    "\n",
    "  def __init__(self,name_input,country_input):\n",
    "    self.name = name_input\n",
    "    self.country = country_input\n",
    "\n",
    "p1 = Person('kartik','india')\n",
    "p2 = Person('steve','australia')"
   ]
  },
  {
   "cell_type": "code",
   "execution_count": 93,
   "metadata": {
    "colab": {
     "base_uri": "https://localhost:8080/",
     "height": 36
    },
    "id": "myBJr2T_KZmL",
    "outputId": "98f717d2-c600-43fa-c6ba-012f518d0490"
   },
   "outputs": [
    {
     "name": "stdout",
     "output_type": "stream",
     "text": [
      "kartik\n",
      "steve\n"
     ]
    }
   ],
   "source": [
    "print(p1.name)\n",
    "print(p2.name)"
   ]
  },
  {
   "cell_type": "code",
   "execution_count": 137,
   "metadata": {
    "id": "HRV0i93nzBtZ"
   },
   "outputs": [],
   "source": [
    "class Atm:\n",
    "\n",
    "  # constructor(special function)->superpower ->\n",
    "  def __init__(self):\n",
    "    print(id(self))\n",
    "    self.pin = ''\n",
    "    self.__balance = 0 # made balance private by adding double underscore ('__') on its left\n",
    "    #self.menu()\n",
    "\n",
    "  def get_balance(self):\n",
    "    return self.__balance\n",
    "\n",
    "  def set_balance(self,new_value):\n",
    "    if type(new_value) == int: # handle junior programmer here\n",
    "      self.__balance = new_value\n",
    "    else:\n",
    "      print('beta bahot maarenge')\n",
    "\n",
    "  def __menu(self): # made this method private by adding double underscore on its left\n",
    "    user_input = input(\"\"\"\n",
    "    Hi how can I help you?\n",
    "    1. Press 1 to create pin\n",
    "    2. Press 2 to change pin\n",
    "    3. Press 3 to check balance\n",
    "    4. Press 4 to withdraw\n",
    "    5. Anything else to exit\n",
    "    \"\"\")\n",
    "\n",
    "    if user_input == '1':\n",
    "      self.create_pin()\n",
    "    elif user_input == '2':\n",
    "      self.change_pin()\n",
    "    elif user_input == '3':\n",
    "      self.check_balance()\n",
    "    elif user_input == '4':\n",
    "      self.withdraw()\n",
    "    else:\n",
    "      exit()\n",
    "\n",
    "  def create_pin(self):\n",
    "    user_pin = input('enter your pin')\n",
    "    self.pin = user_pin\n",
    "\n",
    "    user_balance = int(input('enter balance'))\n",
    "    self.__balance = user_balance\n",
    "\n",
    "    print('pin created successfully')\n",
    "\n",
    "  def change_pin(self):\n",
    "    old_pin = input('enter old pin')\n",
    "\n",
    "    if old_pin == self.pin:\n",
    "      # let him change the pin\n",
    "      new_pin = input('enter new pin')\n",
    "      self.pin = new_pin\n",
    "      print('pin change successful')\n",
    "    else:\n",
    "      print('nai karne de sakta re baba')\n",
    "\n",
    "  def check_balance(self):\n",
    "    user_pin = input('enter your pin')\n",
    "    if user_pin == self.pin:\n",
    "      print('your balance is ',self.__balance)\n",
    "    else:\n",
    "      print('chal nikal yahan se')\n",
    "\n",
    "  def withdraw(self):\n",
    "    user_pin = input('enter the pin')\n",
    "    if user_pin == self.pin:\n",
    "      # allow to withdraw\n",
    "      amount = int(input('enter the amount'))\n",
    "      if amount <= self.__balance:\n",
    "        self.__balance = self.__balance - amount\n",
    "        print('withdrawl successful.balance is',self.__balance)\n",
    "      else:\n",
    "        print('abe garib')\n",
    "    else:\n",
    "      print('sale chor')"
   ]
  },
  {
   "cell_type": "code",
   "execution_count": 107,
   "metadata": {
    "colab": {
     "base_uri": "https://localhost:8080/"
    },
    "id": "L_5IBTO_LaFO",
    "outputId": "f3e1ac11-942e-4324-b471-d5e9f295fa9c"
   },
   "outputs": [
    {
     "name": "stdout",
     "output_type": "stream",
     "text": [
      "4960525808\n"
     ]
    }
   ],
   "source": [
    "obj = Atm()"
   ]
  },
  {
   "cell_type": "code",
   "execution_count": 111,
   "metadata": {},
   "outputs": [
    {
     "name": "stdin",
     "output_type": "stream",
     "text": [
      "enter your pin 1234\n",
      "enter balance 10000\n"
     ]
    },
    {
     "name": "stdout",
     "output_type": "stream",
     "text": [
      "pin created successfully\n"
     ]
    }
   ],
   "source": [
    "obj.create_pin()\n",
    "obj.__balance = 'hehehe' # make it private so that user (junior programmer) can't change it from outside the class\n",
    "# After adding underscore, the __balance won't come in suggestions after typing \"obj.\"\n",
    "\n",
    "# This code doesn't gives error, and even on calling withdraw function it works fine, how?\n",
    "# when you make a variable private by adding double underscore, what happens is that it's name in memory changes \n",
    "# like __balance becomes _Atm__balance in memory \n",
    "\n",
    "# So memory doesn't have any attribute with name as __balance\n",
    "# Now, junior programmer worked on a attribute (__balance) which wasn't even in the class\n",
    "# So what happened is that a completely new attribute (__balance) is formed from outside the class "
   ]
  },
  {
   "cell_type": "code",
   "execution_count": 113,
   "metadata": {},
   "outputs": [
    {
     "name": "stdin",
     "output_type": "stream",
     "text": [
      "enter the pin 1234\n",
      "enter the amount 500\n"
     ]
    },
    {
     "name": "stdout",
     "output_type": "stream",
     "text": [
      "withdrawl successful.balance is 9500\n"
     ]
    }
   ],
   "source": [
    "obj.withdraw()"
   ]
  },
  {
   "cell_type": "code",
   "execution_count": 129,
   "metadata": {},
   "outputs": [
    {
     "name": "stdin",
     "output_type": "stream",
     "text": [
      "enter the pin 1234\n",
      "enter the amount 500\n"
     ]
    },
    {
     "ename": "TypeError",
     "evalue": "'<=' not supported between instances of 'int' and 'str'",
     "output_type": "error",
     "traceback": [
      "\u001b[0;31m---------------------------------------------------------------------------\u001b[0m",
      "\u001b[0;31mTypeError\u001b[0m                                 Traceback (most recent call last)",
      "Cell \u001b[0;32mIn[129], line 4\u001b[0m\n\u001b[1;32m      1\u001b[0m \u001b[38;5;66;03m# nothing is totally private in python (Python is made for adults)\u001b[39;00m\n\u001b[1;32m      3\u001b[0m obj\u001b[38;5;241m.\u001b[39m_Atm__balance \u001b[38;5;241m=\u001b[39m \u001b[38;5;124m'\u001b[39m\u001b[38;5;124mhehehe\u001b[39m\u001b[38;5;124m'\u001b[39m\n\u001b[0;32m----> 4\u001b[0m obj\u001b[38;5;241m.\u001b[39mwithdraw()\n",
      "Cell \u001b[0;32mIn[105], line 72\u001b[0m, in \u001b[0;36mAtm.withdraw\u001b[0;34m(self)\u001b[0m\n\u001b[1;32m     69\u001b[0m \u001b[38;5;28;01mif\u001b[39;00m user_pin \u001b[38;5;241m==\u001b[39m \u001b[38;5;28mself\u001b[39m\u001b[38;5;241m.\u001b[39mpin:\n\u001b[1;32m     70\u001b[0m   \u001b[38;5;66;03m# allow to withdraw\u001b[39;00m\n\u001b[1;32m     71\u001b[0m   amount \u001b[38;5;241m=\u001b[39m \u001b[38;5;28mint\u001b[39m(\u001b[38;5;28minput\u001b[39m(\u001b[38;5;124m'\u001b[39m\u001b[38;5;124menter the amount\u001b[39m\u001b[38;5;124m'\u001b[39m))\n\u001b[0;32m---> 72\u001b[0m   \u001b[38;5;28;01mif\u001b[39;00m amount \u001b[38;5;241m<\u001b[39m\u001b[38;5;241m=\u001b[39m \u001b[38;5;28mself\u001b[39m\u001b[38;5;241m.\u001b[39m__balance:\n\u001b[1;32m     73\u001b[0m     \u001b[38;5;28mself\u001b[39m\u001b[38;5;241m.\u001b[39m__balance \u001b[38;5;241m=\u001b[39m \u001b[38;5;28mself\u001b[39m\u001b[38;5;241m.\u001b[39m__balance \u001b[38;5;241m-\u001b[39m amount\n\u001b[1;32m     74\u001b[0m     \u001b[38;5;28mprint\u001b[39m(\u001b[38;5;124m'\u001b[39m\u001b[38;5;124mwithdrawl successful.balance is\u001b[39m\u001b[38;5;124m'\u001b[39m,\u001b[38;5;28mself\u001b[39m\u001b[38;5;241m.\u001b[39m__balance)\n",
      "\u001b[0;31mTypeError\u001b[0m: '<=' not supported between instances of 'int' and 'str'"
     ]
    }
   ],
   "source": [
    "# nothing is totally private in python (Python is made for adults)\n",
    "\n",
    "obj._Atm__balance = 'hehehe'\n",
    "obj.withdraw()"
   ]
  },
  {
   "cell_type": "code",
   "execution_count": 133,
   "metadata": {
    "colab": {
     "base_uri": "https://localhost:8080/"
    },
    "id": "2k4gY5HlLtdE",
    "outputId": "c37806fc-228d-43ab-fa1c-3d3a021666b7"
   },
   "outputs": [
    {
     "name": "stdout",
     "output_type": "stream",
     "text": [
      "1000\n",
      "beta bahot maarenge\n",
      "1000\n"
     ]
    }
   ],
   "source": [
    "print(obj.get_balance())\n",
    "obj.set_balance('hehehe')\n",
    "obj.set_balance(1000)\n",
    "print(obj.get_balance())"
   ]
  },
  {
   "cell_type": "code",
   "execution_count": 135,
   "metadata": {},
   "outputs": [],
   "source": [
    "# For better understanding of private attributes, run below code on python tutor\n",
    "\n",
    "class Per:\n",
    "    def __init__(self):\n",
    "        self.__name = 'kartik'\n",
    "\n",
    "p1 = Per()\n",
    "p1.__name = 'mayank'"
   ]
  },
  {
   "cell_type": "markdown",
   "metadata": {
    "id": "2zN_yVYaf0_1"
   },
   "source": [
    "### Collection of objects"
   ]
  },
  {
   "cell_type": "code",
   "execution_count": 141,
   "metadata": {
    "colab": {
     "base_uri": "https://localhost:8080/"
    },
    "id": "VdP0aR6Qf4zp",
    "outputId": "72deb00b-deae-4536-da36-2bae44d2245c"
   },
   "outputs": [
    {
     "name": "stdout",
     "output_type": "stream",
     "text": [
      "[<__main__.Person object at 0x127abaea0>, <__main__.Person object at 0x127abd520>, <__main__.Person object at 0x127abc5f0>]\n",
      "nitish male\n",
      "ankit male\n",
      "ankita female\n"
     ]
    }
   ],
   "source": [
    "# list of objects\n",
    "\n",
    "class Person:\n",
    "\n",
    "  def __init__(self,name,gender):\n",
    "    self.name = name\n",
    "    self.gender = gender\n",
    "\n",
    "p1 = Person('nitish','male')\n",
    "p2 = Person('ankit','male')\n",
    "p3 = Person('ankita','female')\n",
    "\n",
    "L = [p1,p2,p3]\n",
    "\n",
    "# since we don't have __str__ method, so upon calling print we get address of all 3 objects\n",
    "print(L)\n",
    "\n",
    "for i in L:\n",
    "  print(i.name,i.gender)"
   ]
  },
  {
   "cell_type": "code",
   "execution_count": 143,
   "metadata": {
    "colab": {
     "base_uri": "https://localhost:8080/"
    },
    "id": "uARXTZTCvt3M",
    "outputId": "18e100f5-07a5-43df-d0d9-482ce648f6f5"
   },
   "outputs": [
    {
     "name": "stdout",
     "output_type": "stream",
     "text": [
      "{'p1': <__main__.Person object at 0x127ab93a0>, 'p2': <__main__.Person object at 0x1252b5fa0>, 'p3': <__main__.Person object at 0x127abfbf0>}\n",
      "p1 nitish male\n",
      "p2 ankit male\n",
      "p3 ankita female\n"
     ]
    }
   ],
   "source": [
    "# dict of objects\n",
    "\n",
    "class Person:\n",
    "\n",
    "  def __init__(self,name,gender):\n",
    "    self.name = name\n",
    "    self.gender = gender\n",
    "\n",
    "p1 = Person('nitish','male')\n",
    "p2 = Person('ankit','male')\n",
    "p3 = Person('ankita','female')\n",
    "\n",
    "d = {'p1':p1,'p2':p2,'p3':p3}\n",
    "\n",
    "# since we don't have __str__ method, so upon calling print we get address of all 3 objects\n",
    "print(d)\n",
    "\n",
    "for i in d:\n",
    "  print(i,d[i].name,d[i].gender)"
   ]
  },
  {
   "cell_type": "markdown",
   "metadata": {
    "id": "TKdM9xIFf8Lt"
   },
   "source": [
    "### Static Variables(Vs Instance variables)"
   ]
  },
  {
   "cell_type": "code",
   "execution_count": 153,
   "metadata": {
    "id": "yQakCFqbf-kB"
   },
   "outputs": [],
   "source": [
    "# need for static vars\n",
    "# create a unique customer id\n",
    "\n",
    "# using an instance variable you cannot implement a counter (linked to object, not class)\n",
    "# we need STATIC variable (which is linked to class, not object)\n",
    "\n",
    "# instance variable has different values for different objects \n",
    "# static variable has same value for different objects "
   ]
  },
  {
   "cell_type": "code",
   "execution_count": 179,
   "metadata": {
    "id": "5HYjBHv9wZNm"
   },
   "outputs": [],
   "source": [
    "class Atm:\n",
    "\n",
    "  # static variable\n",
    "  __counter = 1 # make it private\n",
    "\n",
    "  # constructor(special function)->superpower ->\n",
    "  def __init__(self):\n",
    "    print(id(self))\n",
    "    self.pin = ''\n",
    "    self.__balance = 0\n",
    "    self.cid = Atm.__counter\n",
    "    Atm.__counter = Atm.__counter + 1\n",
    "    # self.menu()\n",
    "\n",
    "  # utility functions\n",
    "  @staticmethod # decorator\n",
    "  def get_counter():\n",
    "    return Atm.__counter\n",
    "  # you can actually create a method inside class which doesn't have self as parameter\n",
    "  # this method belongs to class (not object), can be accessed without creating object (by just using the class name)\n",
    "  # Such methods are known as STATIC methods\n",
    "\n",
    "\n",
    "  def get_balance(self):\n",
    "    return self.__balance\n",
    "\n",
    "  def set_balance(self,new_value):\n",
    "    if type(new_value) == int:\n",
    "      self.__balance = new_value\n",
    "    else:\n",
    "      print('beta bahot maarenge')\n",
    "\n",
    "  def __menu(self):\n",
    "    user_input = input(\"\"\"\n",
    "    Hi how can I help you?\n",
    "    1. Press 1 to create pin\n",
    "    2. Press 2 to change pin\n",
    "    3. Press 3 to check balance\n",
    "    4. Press 4 to withdraw\n",
    "    5. Anything else to exit\n",
    "    \"\"\")\n",
    "\n",
    "    if user_input == '1':\n",
    "      self.create_pin()\n",
    "    elif user_input == '2':\n",
    "      self.change_pin()\n",
    "    elif user_input == '3':\n",
    "      self.check_balance()\n",
    "    elif user_input == '4':\n",
    "      self.withdraw()\n",
    "    else:\n",
    "      exit()\n",
    "\n",
    "  def create_pin(self):\n",
    "    user_pin = input('enter your pin')\n",
    "    self.pin = user_pin\n",
    "\n",
    "    user_balance = int(input('enter balance'))\n",
    "    self.__balance = user_balance\n",
    "\n",
    "    print('pin created successfully')\n",
    "\n",
    "  def change_pin(self):\n",
    "    old_pin = input('enter old pin')\n",
    "\n",
    "    if old_pin == self.pin:\n",
    "      # let him change the pin\n",
    "      new_pin = input('enter new pin')\n",
    "      self.pin = new_pin\n",
    "      print('pin change successful')\n",
    "    else:\n",
    "      print('nai karne de sakta re baba')\n",
    "\n",
    "  def check_balance(self):\n",
    "    user_pin = input('enter your pin')\n",
    "    if user_pin == self.pin:\n",
    "      print('your balance is ',self.__balance)\n",
    "    else:\n",
    "      print('chal nikal yahan se')\n",
    "\n",
    "  def withdraw(self):\n",
    "    user_pin = input('enter the pin')\n",
    "    if user_pin == self.pin:\n",
    "      # allow to withdraw\n",
    "      amount = int(input('enter the amount'))\n",
    "      if amount <= self.__balance:\n",
    "        self.__balance = self.__balance - amount\n",
    "        print('withdrawl successful.balance is',self.__balance)\n",
    "      else:\n",
    "        print('abe garib')\n",
    "    else:\n",
    "      print('sale chor')"
   ]
  },
  {
   "cell_type": "code",
   "execution_count": 181,
   "metadata": {
    "colab": {
     "base_uri": "https://localhost:8080/"
    },
    "id": "uafMrCPewZWY",
    "outputId": "b0c914a4-b08b-4aa0-ebcb-9f1b4bacd0ba"
   },
   "outputs": [
    {
     "name": "stdout",
     "output_type": "stream",
     "text": [
      "4961585008\n",
      "1\n",
      "4961591008\n",
      "2\n",
      "4960533104\n",
      "3\n",
      "4\n"
     ]
    }
   ],
   "source": [
    "c1 = Atm()\n",
    "print(c1.cid)\n",
    "\n",
    "c2 = Atm()\n",
    "print(c2.cid)\n",
    "\n",
    "c3 = Atm()\n",
    "print(c3.cid)\n",
    "\n",
    "print(Atm.get_counter())"
   ]
  },
  {
   "cell_type": "markdown",
   "metadata": {
    "id": "K9bxHyfBgC3Y"
   },
   "source": [
    "### Static methods"
   ]
  },
  {
   "cell_type": "markdown",
   "metadata": {
    "id": "Izqb_9FtwoIZ"
   },
   "source": [
    "##### Points to remember about static\n",
    "\n",
    "- Static attributes are created at class level.\n",
    "- Static attributes are accessed using ClassName.\n",
    "- Static attributes are object independent. We can access them without creating instance (object) of the class in which they are defined.\n",
    "- The value stored in static attribute is shared between all instances(objects) of the class in which the static attribute is defined."
   ]
  },
  {
   "cell_type": "code",
   "execution_count": 184,
   "metadata": {
    "id": "3u0RdyaFwyaP"
   },
   "outputs": [
    {
     "name": "stdout",
     "output_type": "stream",
     "text": [
      "Simba drinks water from the well in the circus\n",
      "Water source of lions: well in the circus\n"
     ]
    }
   ],
   "source": [
    "class Lion:\n",
    "  __water_source=\"well in the circus\"\n",
    "\n",
    "  def __init__(self,name, gender):\n",
    "      self.__name=name\n",
    "      self.__gender=gender\n",
    "\n",
    "  def drinks_water(self):\n",
    "      print(self.__name,\n",
    "      \"drinks water from the\",Lion.__water_source)\n",
    "\n",
    "  @staticmethod\n",
    "  def get_water_source():\n",
    "      return Lion.__water_source\n",
    "\n",
    "simba=Lion(\"Simba\",\"Male\")\n",
    "simba.drinks_water()\n",
    "print( \"Water source of lions:\",Lion.get_water_source())"
   ]
  },
  {
   "cell_type": "code",
   "execution_count": null,
   "metadata": {},
   "outputs": [],
   "source": []
  }
 ],
 "metadata": {
  "colab": {
   "provenance": []
  },
  "kernelspec": {
   "display_name": "Python [conda env:base] *",
   "language": "python",
   "name": "conda-base-py"
  },
  "language_info": {
   "codemirror_mode": {
    "name": "ipython",
    "version": 3
   },
   "file_extension": ".py",
   "mimetype": "text/x-python",
   "name": "python",
   "nbconvert_exporter": "python",
   "pygments_lexer": "ipython3",
   "version": "3.12.7"
  }
 },
 "nbformat": 4,
 "nbformat_minor": 4
}

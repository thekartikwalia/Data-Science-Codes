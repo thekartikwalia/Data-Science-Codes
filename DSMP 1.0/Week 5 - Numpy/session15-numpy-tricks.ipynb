{
 "cells": [
  {
   "cell_type": "markdown",
   "metadata": {
    "id": "39-UcmoPggtI"
   },
   "source": [
    "### np.sort\n",
    "\n",
    "Return a sorted copy of an array.\n",
    "\n",
    "https://numpy.org/doc/stable/reference/generated/numpy.sort.html"
   ]
  },
  {
   "cell_type": "code",
   "execution_count": 16,
   "metadata": {
    "colab": {
     "base_uri": "https://localhost:8080/"
    },
    "id": "vJUzuaz7gqTr",
    "outputId": "d1039d20-cd2b-41be-ce98-ff9cbc111e50"
   },
   "outputs": [
    {
     "name": "stdout",
     "output_type": "stream",
     "text": [
      "[58 71 53 99 82 52 45 52 30 56 52 94 32 24 76]\n",
      "[24 30 32 45 52 52 52 53 56 58 71 76 82 94 99]\n",
      "[99 94 82 76 71 58 56 53 52 52 52 45 32 30 24]\n"
     ]
    }
   ],
   "source": [
    "import numpy as np\n",
    "\n",
    "a = np.random.randint(1,100,15)\n",
    "print(a)\n",
    "\n",
    "print(np.sort(a))\n",
    "print(np.sort(a)[::-1]) # descending order"
   ]
  },
  {
   "cell_type": "code",
   "execution_count": 14,
   "metadata": {
    "colab": {
     "base_uri": "https://localhost:8080/"
    },
    "id": "9fAdd5BWLHsq",
    "outputId": "a37305ea-18d5-4659-9a7a-a252ccc825c3"
   },
   "outputs": [
    {
     "name": "stdout",
     "output_type": "stream",
     "text": [
      "[[15 29 31 36]\n",
      " [32 98 62 89]\n",
      " [27 34 72 46]\n",
      " [84 47 65 87]\n",
      " [54 59 54 74]\n",
      " [24 52 82 88]]\n",
      "[[15 29 31 36]\n",
      " [32 62 89 98]\n",
      " [27 34 46 72]\n",
      " [47 65 84 87]\n",
      " [54 54 59 74]\n",
      " [24 52 82 88]]\n",
      "[[15 29 31 36]\n",
      " [24 34 54 46]\n",
      " [27 47 62 74]\n",
      " [32 52 65 87]\n",
      " [54 59 72 88]\n",
      " [84 98 82 89]]\n"
     ]
    }
   ],
   "source": [
    "b = np.random.randint(1,100,24).reshape(6,4)\n",
    "print(b)\n",
    "\n",
    "print(np.sort(b,axis=1)) # row-wise sort [each row is sorted] (DEFAULT CASE) \n",
    "print(np.sort(b,axis=0)) # column-wise sort [each col is sorted]"
   ]
  },
  {
   "cell_type": "markdown",
   "metadata": {
    "id": "W8tttorjgrVf"
   },
   "source": [
    "### np.append\n",
    "\n",
    "The numpy.append() appends values along the mentioned axis at the end of the array\n",
    "\n",
    "https://numpy.org/doc/stable/reference/generated/numpy.append.html"
   ]
  },
  {
   "cell_type": "code",
   "execution_count": 24,
   "metadata": {
    "colab": {
     "base_uri": "https://localhost:8080/"
    },
    "id": "Y3fHkR1gfd1X",
    "outputId": "621892ba-8b7e-4150-b56d-623aac9574cd"
   },
   "outputs": [
    {
     "name": "stdout",
     "output_type": "stream",
     "text": [
      "[58 71 53 99 82 52 45 52 30 56 52 94 32 24 76]\n"
     ]
    },
    {
     "data": {
      "text/plain": [
       "array([ 58,  71,  53,  99,  82,  52,  45,  52,  30,  56,  52,  94,  32,\n",
       "        24,  76, 200])"
      ]
     },
     "execution_count": 24,
     "metadata": {},
     "output_type": "execute_result"
    }
   ],
   "source": [
    "# 1D array\n",
    "\n",
    "print(a)\n",
    "np.append(a,200)"
   ]
  },
  {
   "cell_type": "code",
   "execution_count": 42,
   "metadata": {
    "colab": {
     "base_uri": "https://localhost:8080/"
    },
    "id": "LsIvCKQ5L-DB",
    "outputId": "79a6a4f6-b7e1-44ae-8add-d94305396e0f"
   },
   "outputs": [
    {
     "name": "stdout",
     "output_type": "stream",
     "text": [
      "[[15 29 31 36]\n",
      " [32 98 62 89]\n",
      " [27 34 72 46]\n",
      " [84 47 65 87]\n",
      " [54 59 54 74]\n",
      " [24 52 82 88]]\n",
      "[15. 29. 31. 36. 32. 98. 62. 89. 27. 34. 72. 46. 84. 47. 65. 87. 54. 59.\n",
      " 54. 74. 24. 52. 82. 88.  1.  1.  1.  1.  1.  1.]\n",
      "[[15. 29. 31. 36.  1.]\n",
      " [32. 98. 62. 89.  1.]\n",
      " [27. 34. 72. 46.  1.]\n",
      " [84. 47. 65. 87.  1.]\n",
      " [54. 59. 54. 74.  1.]\n",
      " [24. 52. 82. 88.  1.]]\n",
      "[[15. 29. 31. 36.]\n",
      " [32. 98. 62. 89.]\n",
      " [27. 34. 72. 46.]\n",
      " [84. 47. 65. 87.]\n",
      " [54. 59. 54. 74.]\n",
      " [24. 52. 82. 88.]\n",
      " [ 1.  1.  1.  1.]]\n"
     ]
    }
   ],
   "source": [
    "# 2D array\n",
    "\n",
    "print(b)\n",
    "print(np.append(b,np.ones((b.shape[0],1)))) # by default it converted 2D to 1D, then added items\n",
    "print(np.append(b,np.ones((b.shape[0],1)),axis=1)) # to add col, we need to mention axis = 1\n",
    "print(np.append(b,np.ones((1,b.shape[1])),axis=0)) # to add row, we need to mention axis = 0"
   ]
  },
  {
   "cell_type": "markdown",
   "metadata": {
    "id": "meIMn8T9g5-m"
   },
   "source": [
    "### np.concatenate\n",
    "\n",
    "numpy.concatenate() function concatenate a sequence of arrays along an existing axis. (majorly used with tabular data)\n",
    "\n",
    "can be used in replacement of stacking\n",
    "\n",
    "https://numpy.org/doc/stable/reference/generated/numpy.concatenate.html"
   ]
  },
  {
   "cell_type": "code",
   "execution_count": 47,
   "metadata": {
    "colab": {
     "base_uri": "https://localhost:8080/"
    },
    "id": "Nrj1_QXfWZlV",
    "outputId": "5c60e20d-f4a2-40b8-e7ce-f0a5019225c8"
   },
   "outputs": [
    {
     "name": "stdout",
     "output_type": "stream",
     "text": [
      "[[0 1 2]\n",
      " [3 4 5]]\n",
      "[[ 6  7  8]\n",
      " [ 9 10 11]]\n"
     ]
    }
   ],
   "source": [
    "c = np.arange(6).reshape(2,3)\n",
    "d = np.arange(6,12).reshape(2,3)\n",
    "\n",
    "print(c)\n",
    "print(d)"
   ]
  },
  {
   "cell_type": "code",
   "execution_count": 68,
   "metadata": {
    "colab": {
     "base_uri": "https://localhost:8080/"
    },
    "id": "fDHBrV7VA4yz",
    "outputId": "832c4406-2b60-4e17-faa0-5008e109eb95"
   },
   "outputs": [
    {
     "data": {
      "text/plain": [
       "array([[ 0,  1,  2],\n",
       "       [ 3,  4,  5],\n",
       "       [ 6,  7,  8],\n",
       "       [ 9, 10, 11]])"
      ]
     },
     "execution_count": 68,
     "metadata": {},
     "output_type": "execute_result"
    }
   ],
   "source": [
    "np.concatenate((c,d),axis=0) # row-wise (no. of rows increases)"
   ]
  },
  {
   "cell_type": "code",
   "execution_count": 70,
   "metadata": {
    "colab": {
     "base_uri": "https://localhost:8080/"
    },
    "id": "GN9DnJ65Mr_b",
    "outputId": "6710e353-cd19-4376-8bd8-a38b7dbadc5a"
   },
   "outputs": [
    {
     "data": {
      "text/plain": [
       "array([[ 0,  1,  2,  6,  7,  8],\n",
       "       [ 3,  4,  5,  9, 10, 11]])"
      ]
     },
     "execution_count": 70,
     "metadata": {},
     "output_type": "execute_result"
    }
   ],
   "source": [
    "np.concatenate((c,d),axis=1) # col-wise (no. of cols increases)"
   ]
  },
  {
   "cell_type": "markdown",
   "metadata": {
    "id": "oHGFqHcohFtB"
   },
   "source": [
    "### np.unique\n",
    "\n",
    "With the help of np.unique() method, we can get the unique values from an array given as parameter in np.unique() method.\n",
    "\n",
    "https://numpy.org/doc/stable/reference/generated/numpy.unique.html/"
   ]
  },
  {
   "cell_type": "code",
   "execution_count": 54,
   "metadata": {
    "id": "NvG0KHpNWdN_"
   },
   "outputs": [
    {
     "name": "stdout",
     "output_type": "stream",
     "text": [
      "[1 1 2 2 3 3 4 4 5 5 6 6]\n",
      "[1 2 3 4 5 6]\n"
     ]
    }
   ],
   "source": [
    "e = np.array([1,1,2,2,3,3,4,4,5,5,6,6])\n",
    "\n",
    "print(e)\n",
    "print(np.unique(e))"
   ]
  },
  {
   "cell_type": "markdown",
   "metadata": {
    "id": "Wki2yOXaEZV3"
   },
   "source": [
    "### np.expand_dims\n",
    "\n",
    "With the help of Numpy.expand_dims() method, we can get the expanded dimensions of an array\n",
    "\n",
    "https://numpy.org/doc/stable/reference/generated/numpy.expand_dims.html"
   ]
  },
  {
   "cell_type": "code",
   "execution_count": 58,
   "metadata": {
    "colab": {
     "base_uri": "https://localhost:8080/"
    },
    "id": "Pyvf-oZ0XTvr",
    "outputId": "3d75c6c4-8019-4d36-d29a-ebf0a213f3ef"
   },
   "outputs": [
    {
     "name": "stdout",
     "output_type": "stream",
     "text": [
      "[58 71 53 99 82 52 45 52 30 56 52 94 32 24 76]\n"
     ]
    },
    {
     "data": {
      "text/plain": [
       "(15,)"
      ]
     },
     "execution_count": 58,
     "metadata": {},
     "output_type": "execute_result"
    }
   ],
   "source": [
    "print(a)\n",
    "a.shape"
   ]
  },
  {
   "cell_type": "code",
   "execution_count": 72,
   "metadata": {
    "colab": {
     "base_uri": "https://localhost:8080/"
    },
    "id": "B-Pk9HNzNdrb",
    "outputId": "b7cd6597-410a-4016-ba3b-f5103d608db8"
   },
   "outputs": [
    {
     "name": "stdout",
     "output_type": "stream",
     "text": [
      "[[58 71 53 99 82 52 45 52 30 56 52 94 32 24 76]]\n"
     ]
    },
    {
     "data": {
      "text/plain": [
       "(1, 15)"
      ]
     },
     "execution_count": 72,
     "metadata": {},
     "output_type": "execute_result"
    }
   ],
   "source": [
    "print(np.expand_dims(a,axis=0)) # row-wise (no. of rows remains same)\n",
    "np.expand_dims(a,axis=0).shape"
   ]
  },
  {
   "cell_type": "code",
   "execution_count": 74,
   "metadata": {
    "colab": {
     "base_uri": "https://localhost:8080/"
    },
    "id": "5d0Ahp8QNsKO",
    "outputId": "14587e87-7f0f-4b9c-8df8-dd5500f21878"
   },
   "outputs": [
    {
     "name": "stdout",
     "output_type": "stream",
     "text": [
      "[[58]\n",
      " [71]\n",
      " [53]\n",
      " [99]\n",
      " [82]\n",
      " [52]\n",
      " [45]\n",
      " [52]\n",
      " [30]\n",
      " [56]\n",
      " [52]\n",
      " [94]\n",
      " [32]\n",
      " [24]\n",
      " [76]]\n"
     ]
    },
    {
     "data": {
      "text/plain": [
       "(15, 1)"
      ]
     },
     "execution_count": 74,
     "metadata": {},
     "output_type": "execute_result"
    }
   ],
   "source": [
    "print(np.expand_dims(a,axis=1)) # col-wise (no. of cols remains same)\n",
    "np.expand_dims(a,axis=1).shape"
   ]
  },
  {
   "cell_type": "markdown",
   "metadata": {
    "id": "_HmpYNTFERjS"
   },
   "source": [
    "### np.where\n",
    "\n",
    "The numpy.where() function returns the indices of elements in an input array where the given condition is satisfied.\n",
    "\n",
    "https://numpy.org/doc/stable/reference/generated/numpy.where.html"
   ]
  },
  {
   "cell_type": "code",
   "execution_count": 80,
   "metadata": {
    "colab": {
     "base_uri": "https://localhost:8080/"
    },
    "id": "H8k_ZDXjEo5W",
    "outputId": "688a96ee-b66c-48b7-8778-b502d489c82b"
   },
   "outputs": [
    {
     "name": "stdout",
     "output_type": "stream",
     "text": [
      "[58 71 53 99 82 52 45 52 30 56 52 94 32 24 76]\n",
      "(array([ 0,  1,  2,  3,  4,  5,  7,  9, 10, 11, 14]),)\n",
      "[ 0  0  0  0  0  0 45  0 30  0  0  0 32 24  0]\n",
      "[ 0 71 53 99  0  0 45  0  0  0  0  0  0  0  0]\n"
     ]
    }
   ],
   "source": [
    "print(a)\n",
    "\n",
    "# Way-1: np.where(condition)\n",
    "print(np.where(a>50)) # find all indices with value greater than 50\n",
    "\n",
    "# Way-2: np.where(condition,true, false)\n",
    "print(np.where(a>50,0,a)) # replace all values > 50 with 0\n",
    "print(np.where(a%2 == 0,0,a))"
   ]
  },
  {
   "cell_type": "markdown",
   "metadata": {
    "id": "jsGIGNtCIS5-"
   },
   "source": [
    "### np.argmax\n",
    "\n",
    "The numpy.argmax() function returns indices of the max element of the array in a particular axis.\n",
    "\n",
    "https://numpy.org/doc/stable/reference/generated/numpy.argmax.html"
   ]
  },
  {
   "cell_type": "code",
   "execution_count": 92,
   "metadata": {
    "colab": {
     "base_uri": "https://localhost:8080/"
    },
    "id": "8YlXmMuaIRpj",
    "outputId": "448f7ecd-0282-41c4-d319-690f6219562b"
   },
   "outputs": [
    {
     "name": "stdout",
     "output_type": "stream",
     "text": [
      "[58 71 53 99 82 52 45 52 30 56 52 94 32 24 76]\n",
      "3\n",
      "13\n"
     ]
    }
   ],
   "source": [
    "print(a)\n",
    "\n",
    "print(np.argmax(a))\n",
    "print(np.argmin(a))"
   ]
  },
  {
   "cell_type": "code",
   "execution_count": 90,
   "metadata": {
    "colab": {
     "base_uri": "https://localhost:8080/"
    },
    "id": "CohggNGrP5am",
    "outputId": "596701c9-6de8-4c0c-c749-b43b4f34babe"
   },
   "outputs": [
    {
     "name": "stdout",
     "output_type": "stream",
     "text": [
      "[[15 29 31 36]\n",
      " [32 98 62 89]\n",
      " [27 34 72 46]\n",
      " [84 47 65 87]\n",
      " [54 59 54 74]\n",
      " [24 52 82 88]]\n",
      "[3 1 5 1]\n",
      "[3 1 2 3 3 3]\n"
     ]
    }
   ],
   "source": [
    "print(b)\n",
    "\n",
    "print(np.argmax(b,axis=0)) # col-wise max\n",
    "print(np.argmax(b,axis=1)) # row-wise max"
   ]
  },
  {
   "cell_type": "markdown",
   "metadata": {
    "id": "1OdKi27pa091"
   },
   "source": [
    "### np.cumsum\n",
    "\n",
    "numpy.cumsum() function is used when we want to compute the cumulative sum of array elements over a given axis.\n",
    "\n",
    "https://numpy.org/doc/stable/reference/generated/numpy.cumsum.html"
   ]
  },
  {
   "cell_type": "code",
   "execution_count": 95,
   "metadata": {
    "colab": {
     "base_uri": "https://localhost:8080/"
    },
    "id": "VZmQUWH9bDk_",
    "outputId": "5555c8b5-2b7a-494b-c118-ad97bc253e3c"
   },
   "outputs": [
    {
     "name": "stdout",
     "output_type": "stream",
     "text": [
      "[58 71 53 99 82 52 45 52 30 56 52 94 32 24 76]\n",
      "[ 58 129 182 281 363 415 460 512 542 598 650 744 776 800 876]\n"
     ]
    }
   ],
   "source": [
    "print(a)\n",
    "\n",
    "print(np.cumsum(a))"
   ]
  },
  {
   "cell_type": "code",
   "execution_count": 97,
   "metadata": {
    "colab": {
     "base_uri": "https://localhost:8080/"
    },
    "id": "Ypr5nUGxRJuO",
    "outputId": "c5daf9f8-4115-442b-d7e5-3c2c7fbe6ff9"
   },
   "outputs": [
    {
     "name": "stdout",
     "output_type": "stream",
     "text": [
      "[[15 29 31 36]\n",
      " [32 98 62 89]\n",
      " [27 34 72 46]\n",
      " [84 47 65 87]\n",
      " [54 59 54 74]\n",
      " [24 52 82 88]]\n",
      "[[ 15  44  75 111]\n",
      " [ 32 130 192 281]\n",
      " [ 27  61 133 179]\n",
      " [ 84 131 196 283]\n",
      " [ 54 113 167 241]\n",
      " [ 24  76 158 246]]\n",
      "[  15   44   75  111  143  241  303  392  419  453  525  571  655  702\n",
      "  767  854  908  967 1021 1095 1119 1171 1253 1341]\n"
     ]
    }
   ],
   "source": [
    "print(b)\n",
    "\n",
    "print(np.cumsum(b,axis=1))\n",
    "print(np.cumsum(b)) # converted to 1D, then applied cumsum"
   ]
  },
  {
   "cell_type": "code",
   "execution_count": 101,
   "metadata": {
    "colab": {
     "base_uri": "https://localhost:8080/"
    },
    "id": "RtGuPGr9WlVV",
    "outputId": "6adf6a7d-815f-4b94-d5fc-f85366c5d227"
   },
   "outputs": [
    {
     "name": "stdout",
     "output_type": "stream",
     "text": [
      "[58 71 53 99 82 52 45 52 30 56 52 94 32 24 76]\n",
      "[                  58                 4118               218254\n",
      "             21607146           1771785972          92132870544\n",
      "        4145979174480      215590917072960     6467727512188800\n",
      "   362192740682572800   387278441784233984  -489314619701108736\n",
      "  2788676243274072064 -6858746456260476928 -4755896611928801280]\n"
     ]
    }
   ],
   "source": [
    "# np.cumprod\n",
    "print(a)\n",
    "\n",
    "print(np.cumprod(a))"
   ]
  },
  {
   "cell_type": "markdown",
   "metadata": {
    "id": "SIuRwLMjcnOl"
   },
   "source": [
    "### np.percentile\n",
    "\n",
    "numpy.percentile()function used to compute the nth percentile of the given data (array elements) along the specified axis.\n",
    "\n",
    "$P = (\\frac{n}{N})\\times 100$\n",
    "\n",
    "where,\n",
    "<br>P --> percentile\n",
    "<br>n --> number of values below 'x'\n",
    "<br>N --> total count of population\n",
    "\n",
    "https://numpy.org/doc/stable/reference/generated/numpy.percentile.html"
   ]
  },
  {
   "cell_type": "code",
   "execution_count": 111,
   "metadata": {
    "colab": {
     "base_uri": "https://localhost:8080/"
    },
    "id": "_o8iH4Evcl8C",
    "outputId": "cefa31c8-c4b3-4fb0-aa47-c786c65fcd8a"
   },
   "outputs": [
    {
     "name": "stdout",
     "output_type": "stream",
     "text": [
      "[58 71 53 99 82 52 45 52 30 56 52 94 32 24 76]\n",
      "99.0\n",
      "24.0\n",
      "53.0\n"
     ]
    }
   ],
   "source": [
    "# x percentile means x% of total population are behind the current candidate\n",
    "print(a)\n",
    "\n",
    "print(np.percentile(a,100)) # max number\n",
    "print(np.percentile(a,0)) # min number\n",
    "print(np.percentile(a,50)) # median"
   ]
  },
  {
   "cell_type": "code",
   "execution_count": 113,
   "metadata": {
    "colab": {
     "base_uri": "https://localhost:8080/"
    },
    "id": "KLIhMJSTScTy",
    "outputId": "62d539c9-0d48-4791-d269-752469424313"
   },
   "outputs": [
    {
     "data": {
      "text/plain": [
       "53.0"
      ]
     },
     "execution_count": 113,
     "metadata": {},
     "output_type": "execute_result"
    }
   ],
   "source": [
    "np.median(a)"
   ]
  },
  {
   "cell_type": "markdown",
   "metadata": {
    "id": "2C6nGaJHev5N"
   },
   "source": [
    "### np.histogram\n",
    "\n",
    "Numpy has a built-in numpy.histogram() function which represents the frequency of data distribution in the graphical form.\n",
    "\n",
    "https://numpy.org/doc/stable/reference/generated/numpy.histogram.html"
   ]
  },
  {
   "cell_type": "code",
   "execution_count": 124,
   "metadata": {
    "colab": {
     "base_uri": "https://localhost:8080/"
    },
    "id": "S2pFLU5ZWuTx",
    "outputId": "f461cfbe-2556-49c4-a2f2-d9cc8dcccd29"
   },
   "outputs": [
    {
     "name": "stdout",
     "output_type": "stream",
     "text": [
      "[58 71 53 99 82 52 45 52 30 56 52 94 32 24 76]\n"
     ]
    },
    {
     "data": {
      "text/plain": [
       "(array([ 4, 11]), array([  0,  50, 100]))"
      ]
     },
     "execution_count": 124,
     "metadata": {},
     "output_type": "execute_result"
    }
   ],
   "source": [
    "print(a)\n",
    "\n",
    "np.histogram(a,bins=[0,50,100])"
   ]
  },
  {
   "cell_type": "markdown",
   "metadata": {
    "id": "JxgMS0Zef8oQ"
   },
   "source": [
    "### np.corrcoef\n",
    "\n",
    "Return Pearson product-moment correlation coefficients.\n",
    "\n",
    "https://numpy.org/doc/stable/reference/generated/numpy.corrcoef.html"
   ]
  },
  {
   "cell_type": "code",
   "execution_count": 128,
   "metadata": {
    "colab": {
     "base_uri": "https://localhost:8080/"
    },
    "id": "ZAMnvEm5WyUp",
    "outputId": "0445bb77-29e1-49e2-f07e-656e33f9b70d"
   },
   "outputs": [
    {
     "data": {
      "text/plain": [
       "array([[1.        , 0.25344572],\n",
       "       [0.25344572, 1.        ]])"
      ]
     },
     "execution_count": 128,
     "metadata": {},
     "output_type": "execute_result"
    }
   ],
   "source": [
    "# correlation coefficient lies in range [-1,1]\n",
    "\n",
    "salary = np.array([20000,40000,25000,35000,60000])\n",
    "experience = np.array([1,3,2,4,2])\n",
    "\n",
    "np.corrcoef(salary,experience) # correlation of any quantity with itself is always 1"
   ]
  },
  {
   "cell_type": "markdown",
   "metadata": {
    "id": "Ot4h1PdGh-vI"
   },
   "source": [
    "### np.isin\n",
    "\n",
    "With the help of numpy.isin() method, we can see that one array having values are checked in a different numpy array having different elements with different sizes.\n",
    "\n",
    "https://numpy.org/doc/stable/reference/generated/numpy.isin.html"
   ]
  },
  {
   "cell_type": "code",
   "execution_count": 170,
   "metadata": {
    "colab": {
     "base_uri": "https://localhost:8080/"
    },
    "id": "oyyVo0qnW2Cz",
    "outputId": "37417575-e23f-425e-d617-76cfb848da40"
   },
   "outputs": [
    {
     "name": "stdout",
     "output_type": "stream",
     "text": [
      "[11 53 28 50 38 37 94 92  5 30 68  9 78  2 21]\n",
      "[False False False  True False False False False False  True False False\n",
      " False False False]\n",
      "[50 30]\n"
     ]
    }
   ],
   "source": [
    "a = np.array([11,53,28,50,38,37,94,92,5,30,68,9,78,2,21])\n",
    "print(a)\n",
    "\n",
    "items = [10,20,30,40,50,60,70,80,90,100]\n",
    "print(np.isin(a,items))\n",
    "print(a[np.isin(a,items)]) # Boolean masking: tells which values are present"
   ]
  },
  {
   "cell_type": "markdown",
   "metadata": {
    "id": "8VKXXRjmicT-"
   },
   "source": [
    "### np.flip\n",
    "\n",
    "The numpy.flip() function reverses the order of array elements along the specified axis, preserving the shape of the array.\n",
    "\n",
    "https://numpy.org/doc/stable/reference/generated/numpy.flip.html"
   ]
  },
  {
   "cell_type": "code",
   "execution_count": 156,
   "metadata": {
    "colab": {
     "base_uri": "https://localhost:8080/"
    },
    "id": "lMreAl7yEvBa",
    "outputId": "64044da1-ce34-403c-f97d-7b77a7e9ecea"
   },
   "outputs": [
    {
     "name": "stdout",
     "output_type": "stream",
     "text": [
      "[11 53 28 50 38 37 94 92  5 30 68  9 78  2 21]\n",
      "[21  2 78  9 68 30  5 92 94 37 38 50 28 53 11]\n"
     ]
    }
   ],
   "source": [
    "print(a)\n",
    "\n",
    "print(np.flip(a))"
   ]
  },
  {
   "cell_type": "code",
   "execution_count": 162,
   "metadata": {
    "colab": {
     "base_uri": "https://localhost:8080/"
    },
    "id": "nWp3PQ87Vkin",
    "outputId": "1f8ef30d-846d-47f2-bdd8-0dcefc7312e2"
   },
   "outputs": [
    {
     "name": "stdout",
     "output_type": "stream",
     "text": [
      "[[15 29 31 36]\n",
      " [32 98 62 89]\n",
      " [27 34 72 46]\n",
      " [84 47 65 87]\n",
      " [54 59 54 74]\n",
      " [24 52 82 88]]\n",
      "[[88 82 52 24]\n",
      " [74 54 59 54]\n",
      " [87 65 47 84]\n",
      " [46 72 34 27]\n",
      " [89 62 98 32]\n",
      " [36 31 29 15]]\n",
      "[[36 31 29 15]\n",
      " [89 62 98 32]\n",
      " [46 72 34 27]\n",
      " [87 65 47 84]\n",
      " [74 54 59 54]\n",
      " [88 82 52 24]]\n"
     ]
    }
   ],
   "source": [
    "print(b)\n",
    "\n",
    "print(np.flip(b)) # row & col flip, both happened\n",
    "print(np.flip(b,axis=1)) # col flip only"
   ]
  },
  {
   "cell_type": "markdown",
   "metadata": {
    "id": "n7jTKF2QjIz4"
   },
   "source": [
    "### np.put\n",
    "\n",
    "The numpy.put() function replaces specific elements of an array with given values of p_array. Array indexed works on flattened array.\n",
    "\n",
    "https://numpy.org/doc/stable/reference/generated/numpy.put.html"
   ]
  },
  {
   "cell_type": "code",
   "execution_count": 172,
   "metadata": {
    "colab": {
     "base_uri": "https://localhost:8080/"
    },
    "id": "xZrJHzr0E0zN",
    "outputId": "d9ed43a6-623f-4b5b-cfcd-03dc841375b2"
   },
   "outputs": [
    {
     "name": "stdout",
     "output_type": "stream",
     "text": [
      "[11 53 28 50 38 37 94 92  5 30 68  9 78  2 21]\n",
      "[110 530  28  50  38  37  94  92   5  30  68   9  78   2  21]\n"
     ]
    }
   ],
   "source": [
    "print(a)\n",
    "\n",
    "np.put(a,[0,1],[110,530]) # [0,1] are indexes you want to replace \n",
    "print(a) # NOTE: numpy.put() does PERMANENT changes"
   ]
  },
  {
   "cell_type": "markdown",
   "metadata": {
    "id": "lYkpJg3kpSWB"
   },
   "source": [
    "### np.delete\n",
    "\n",
    "The numpy.delete() function returns a new array with the deletion of sub-arrays along with the mentioned axis.\n",
    "\n",
    "https://numpy.org/doc/stable/reference/generated/numpy.delete.html"
   ]
  },
  {
   "cell_type": "code",
   "execution_count": 180,
   "metadata": {
    "colab": {
     "base_uri": "https://localhost:8080/"
    },
    "id": "VmGLdiy5pQXc",
    "outputId": "728b29c4-517a-440f-da4a-8d1aaecbf6e7"
   },
   "outputs": [
    {
     "name": "stdout",
     "output_type": "stream",
     "text": [
      "[110 530  28  50  38  37  94  92   5  30  68   9  78   2  21]\n"
     ]
    },
    {
     "data": {
      "text/plain": [
       "array([530,  50,  37,  94,  92,   5,  30,  68,   9,  78,   2,  21])"
      ]
     },
     "execution_count": 180,
     "metadata": {},
     "output_type": "execute_result"
    }
   ],
   "source": [
    "print(a)\n",
    "\n",
    "np.delete(a,[0,2,4]) # 0,2,4 are indexes\n",
    "# NOTE: numpy.delete() does TEMPORARY changes"
   ]
  },
  {
   "cell_type": "markdown",
   "metadata": {
    "id": "Ei94MbFbrjvx"
   },
   "source": [
    "### Set functions\n",
    "\n",
    "- np.union1d\n",
    "- np.intersect1d\n",
    "- np.setdiff1d\n",
    "- np.setxor1d\n",
    "- np.in1d"
   ]
  },
  {
   "cell_type": "code",
   "execution_count": 198,
   "metadata": {
    "colab": {
     "base_uri": "https://localhost:8080/"
    },
    "id": "hHSwzU1irY0f",
    "outputId": "b342e657-f1e1-4421-9447-e261ec0efc36"
   },
   "outputs": [
    {
     "name": "stdout",
     "output_type": "stream",
     "text": [
      "[1 2 3 4 5 6 7]\n",
      "[3 4 5]\n",
      "[1 2]\n",
      "[6 7]\n",
      "[1 2 6 7]\n",
      "[ True False  True False False]\n"
     ]
    },
    {
     "data": {
      "text/plain": [
       "array([1, 3])"
      ]
     },
     "execution_count": 198,
     "metadata": {},
     "output_type": "execute_result"
    }
   ],
   "source": [
    "m = np.array([1,2,3,4,5])\n",
    "n = np.array([3,4,5,6,7])\n",
    "\n",
    "print(np.union1d(m,n))\n",
    "print(np.intersect1d(m,n))\n",
    "print(np.setdiff1d(m,n)) # m-n\n",
    "print(np.setdiff1d(n,m)) # n-m\n",
    "print(np.setxor1d(m,n)) # all elements where aren't present in both (remove common ones, rest keep everything)\n",
    "\n",
    "print(np.in1d(m,[1,3])) # returns boolean array of size same as m, true where elements of m are present in [1,3]\n",
    "m[np.in1d(m,[1,3])] # boolean masking"
   ]
  },
  {
   "cell_type": "markdown",
   "metadata": {
    "id": "uLxS7H2pr-rh"
   },
   "source": [
    "### np.clip\n",
    "\n",
    "numpy.clip() function is used to Clip (limit) the values in an array.\n",
    "\n",
    "https://numpy.org/doc/stable/reference/generated/numpy.clip.html"
   ]
  },
  {
   "cell_type": "code",
   "execution_count": 202,
   "metadata": {
    "colab": {
     "base_uri": "https://localhost:8080/"
    },
    "id": "Q3S9gjNzsL73",
    "outputId": "536e7835-500c-4493-9f69-0273a967f8b4"
   },
   "outputs": [
    {
     "name": "stdout",
     "output_type": "stream",
     "text": [
      "[110 530  28  50  38  37  94  92   5  30  68   9  78   2  21]\n"
     ]
    },
    {
     "data": {
      "text/plain": [
       "array([75, 75, 28, 50, 38, 37, 75, 75, 25, 30, 68, 25, 75, 25, 25])"
      ]
     },
     "execution_count": 202,
     "metadata": {},
     "output_type": "execute_result"
    }
   ],
   "source": [
    "print(a)\n",
    "\n",
    "np.clip(a,a_min=25,a_max=75) # higher values are replaced with a_max & lower values with a_min"
   ]
  },
  {
   "cell_type": "markdown",
   "metadata": {},
   "source": [
    "### Below functions to be done at time of Interview Preparation"
   ]
  },
  {
   "cell_type": "code",
   "execution_count": null,
   "metadata": {
    "id": "INpvUpf9InGT"
   },
   "outputs": [],
   "source": [
    "# 17. np.swapaxes"
   ]
  },
  {
   "cell_type": "code",
   "execution_count": null,
   "metadata": {
    "id": "AEFIFE1vJXDA"
   },
   "outputs": [],
   "source": [
    "# 18. np.uniform"
   ]
  },
  {
   "cell_type": "code",
   "execution_count": null,
   "metadata": {
    "id": "y7M0rggRKBIu"
   },
   "outputs": [],
   "source": [
    "# 19. np.count_nonzero"
   ]
  },
  {
   "cell_type": "code",
   "execution_count": null,
   "metadata": {
    "id": "Qy0-pdlOK9tC"
   },
   "outputs": [],
   "source": [
    "# 21. np.tile\n",
    "# https://www.kaggle.com/code/abhayparashar31/best-numpy-functions-for-data-science-50?scriptVersionId=98816580"
   ]
  },
  {
   "cell_type": "code",
   "execution_count": null,
   "metadata": {
    "id": "5DAEz6cbIdga"
   },
   "outputs": [],
   "source": [
    "# 22. np.repeat\n",
    "# https://towardsdatascience.com/10-numpy-functions-you-should-know-1dc4863764c5"
   ]
  },
  {
   "cell_type": "code",
   "execution_count": null,
   "metadata": {
    "id": "DdLxDfsMNfz8"
   },
   "outputs": [],
   "source": [
    "\n",
    "# 25. np.allclose and equals"
   ]
  },
  {
   "cell_type": "code",
   "execution_count": null,
   "metadata": {
    "id": "IYClnmitOqTl"
   },
   "outputs": [],
   "source": []
  }
 ],
 "metadata": {
  "colab": {
   "provenance": []
  },
  "kernelspec": {
   "display_name": "Python [conda env:base] *",
   "language": "python",
   "name": "conda-base-py"
  },
  "language_info": {
   "codemirror_mode": {
    "name": "ipython",
    "version": 3
   },
   "file_extension": ".py",
   "mimetype": "text/x-python",
   "name": "python",
   "nbconvert_exporter": "python",
   "pygments_lexer": "ipython3",
   "version": "3.12.7"
  }
 },
 "nbformat": 4,
 "nbformat_minor": 4
}

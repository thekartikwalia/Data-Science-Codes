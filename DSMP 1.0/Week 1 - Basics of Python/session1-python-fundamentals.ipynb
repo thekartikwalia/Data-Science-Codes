{
 "cells": [
  {
   "cell_type": "markdown",
   "id": "995535f7-2c9c-4097-be53-d07f3b69abb5",
   "metadata": {},
   "source": [
    "# 1. Python Output"
   ]
  },
  {
   "cell_type": "code",
   "execution_count": 65,
   "id": "cd915506-3c49-49f9-a62f-4251a51ee7a7",
   "metadata": {},
   "outputs": [
    {
     "name": "stdout",
     "output_type": "stream",
     "text": [
      "Hello world\n",
      "7\n",
      "7.7\n",
      "True\n",
      "Hello 1 4.5 True\n",
      "Hello/1/4.5/True\n",
      "hello-world\n"
     ]
    }
   ],
   "source": [
    "# Python is a case sensitive language\n",
    "\n",
    "print('Hello world')\n",
    "print(7)\n",
    "print(7.7)\n",
    "print(True)\n",
    "\n",
    "print('Hello',1,4.5,True) # prints separated by space\n",
    "print('Hello',1,4.5,True,sep='/') # prints separated by forward slash\n",
    "\n",
    "print('hello', end='-') # changing end's default value\n",
    "print('world')"
   ]
  },
  {
   "cell_type": "markdown",
   "id": "1f251353-25b1-4e8e-bf19-7079b91148b6",
   "metadata": {},
   "source": [
    "# 2. Data Types"
   ]
  },
  {
   "cell_type": "code",
   "execution_count": 47,
   "id": "f70b45f8-f26c-4b68-89df-46a404ee6e45",
   "metadata": {},
   "outputs": [
    {
     "name": "stdout",
     "output_type": "stream",
     "text": [
      "8\n",
      "1e+308\n",
      "inf\n"
     ]
    }
   ],
   "source": [
    "# Integer\n",
    "print(8)\n",
    "print(1e308) # python can handle large numbers\n",
    "print(1e309) # limit"
   ]
  },
  {
   "cell_type": "code",
   "execution_count": 28,
   "id": "46bfc288-ae6e-4d1d-bcbb-254b1d3feaf2",
   "metadata": {},
   "outputs": [
    {
     "name": "stdout",
     "output_type": "stream",
     "text": [
      "8.55\n",
      "1.7e+308\n",
      "inf\n"
     ]
    }
   ],
   "source": [
    "# Decimal/Float\n",
    "print(8.55)\n",
    "print(1.7e308)\n",
    "print(1.7e309) # limit"
   ]
  },
  {
   "cell_type": "code",
   "execution_count": 30,
   "id": "e8fb344e-7bc2-4785-bd6f-8e62af91625d",
   "metadata": {},
   "outputs": [
    {
     "name": "stdout",
     "output_type": "stream",
     "text": [
      "True\n",
      "False\n"
     ]
    }
   ],
   "source": [
    "# Boolean\n",
    "print(True)\n",
    "print(False)"
   ]
  },
  {
   "cell_type": "code",
   "execution_count": 32,
   "id": "14152854-900b-430e-8c80-d3dc268da2e5",
   "metadata": {},
   "outputs": [
    {
     "name": "stdout",
     "output_type": "stream",
     "text": [
      "Hello world\n"
     ]
    }
   ],
   "source": [
    "# Text/String\n",
    "print('Hello world')"
   ]
  },
  {
   "cell_type": "code",
   "execution_count": 34,
   "id": "b9b91d3a-998b-4c32-8529-1e68e0574267",
   "metadata": {},
   "outputs": [
    {
     "name": "stdout",
     "output_type": "stream",
     "text": [
      "(5+6j)\n"
     ]
    }
   ],
   "source": [
    "# Complex\n",
    "print(5+6j)"
   ]
  },
  {
   "cell_type": "code",
   "execution_count": 36,
   "id": "3ce6fed4-9c06-4988-b6e6-741eaf05d5b5",
   "metadata": {},
   "outputs": [
    {
     "name": "stdout",
     "output_type": "stream",
     "text": [
      "[1, 2, 3, 4, 5]\n"
     ]
    }
   ],
   "source": [
    "# List -> C-Array\n",
    "print([1,2,3,4,5])"
   ]
  },
  {
   "cell_type": "code",
   "execution_count": 38,
   "id": "0a5d58bd-b572-4e8a-b80e-735417186803",
   "metadata": {},
   "outputs": [
    {
     "name": "stdout",
     "output_type": "stream",
     "text": [
      "(1, 2, 3, 4, 5)\n"
     ]
    }
   ],
   "source": [
    "# Tuple\n",
    "print((1,2,3,4,5))"
   ]
  },
  {
   "cell_type": "code",
   "execution_count": 40,
   "id": "e01a9c05-9663-4bbc-8ac6-cf1b0133e45c",
   "metadata": {},
   "outputs": [
    {
     "name": "stdout",
     "output_type": "stream",
     "text": [
      "{1, 2, 3, 4, 5}\n"
     ]
    }
   ],
   "source": [
    "# Sets\n",
    "print({1,2,3,4,5})"
   ]
  },
  {
   "cell_type": "code",
   "execution_count": 49,
   "id": "ea44c38c-10cc-4ce7-8339-eb12968c0731",
   "metadata": {},
   "outputs": [
    {
     "name": "stdout",
     "output_type": "stream",
     "text": [
      "{'name': 'Nitish', 'gender': 'Male', 'weight': 70}\n"
     ]
    }
   ],
   "source": [
    "# Dictionary\n",
    "print({'name':'Nitish','gender':'Male','weight':70})"
   ]
  },
  {
   "cell_type": "code",
   "execution_count": 55,
   "id": "7d064698-22a2-4a8f-9e5e-4c1c22c9091f",
   "metadata": {},
   "outputs": [
    {
     "data": {
      "text/plain": [
       "complex"
      ]
     },
     "execution_count": 55,
     "metadata": {},
     "output_type": "execute_result"
    }
   ],
   "source": [
    "# Type\n",
    "type(1+2j)"
   ]
  },
  {
   "cell_type": "markdown",
   "id": "31622563-904a-4674-9005-d00ec1f5273b",
   "metadata": {},
   "source": [
    "# 3. Variables"
   ]
  },
  {
   "cell_type": "code",
   "execution_count": 57,
   "id": "563db0b0-1bb3-427f-aeb8-914912e6832b",
   "metadata": {},
   "outputs": [],
   "source": [
    "# Static Vs Dynamic Typing\n",
    "# Static Vs Dynamic Binding\n",
    "# stylish declaration techniques"
   ]
  },
  {
   "cell_type": "code",
   "execution_count": 63,
   "id": "312ca106-8694-40fa-90a0-2b8b2834f9ee",
   "metadata": {},
   "outputs": [
    {
     "name": "stdout",
     "output_type": "stream",
     "text": [
      "nitish\n",
      "11\n"
     ]
    }
   ],
   "source": [
    "# Python doesn't require to define datatype for creation of variables\n",
    "\n",
    "name = 'nitish'\n",
    "print(name)\n",
    "\n",
    "a = 5\n",
    "b = 6\n",
    "print(a+b)"
   ]
  },
  {
   "cell_type": "code",
   "execution_count": 73,
   "id": "38c312e4-4180-4f4f-9edb-b2b65ee57514",
   "metadata": {},
   "outputs": [],
   "source": [
    "# Dynamic Typing (supported in Python)\n",
    "a = 5\n",
    "\n",
    "# Static Typing (supported in C, C++)\n",
    "# int a = 5"
   ]
  },
  {
   "cell_type": "code",
   "execution_count": 82,
   "id": "5b46429f-b5e5-401e-b865-ffe9a862a178",
   "metadata": {},
   "outputs": [
    {
     "name": "stdout",
     "output_type": "stream",
     "text": [
      "5\n",
      "nitish\n"
     ]
    }
   ],
   "source": [
    "# Dynamic Binding: Same variable can store different datatypes (supported in Python) \n",
    "a = 5\n",
    "print(a)\n",
    "a = 'nitish'\n",
    "print(a)\n",
    "\n",
    "# Static Binding: Same variable can store only values of same datatype i.e. variable name & datatype is attached (supported in C, C++)\n",
    "# int a = 5\n",
    "# a = \"kartik\""
   ]
  },
  {
   "cell_type": "code",
   "execution_count": 77,
   "id": "f2950b3c-9914-4e8f-b9b0-0c8523238d29",
   "metadata": {},
   "outputs": [
    {
     "name": "stdout",
     "output_type": "stream",
     "text": [
      "1 2 3\n"
     ]
    }
   ],
   "source": [
    "a,b,c = 1,2,3\n",
    "print(a,b,c)"
   ]
  },
  {
   "cell_type": "code",
   "execution_count": 79,
   "id": "12f74075-7857-4c99-8a2e-3f8eed42f2e4",
   "metadata": {},
   "outputs": [
    {
     "name": "stdout",
     "output_type": "stream",
     "text": [
      "5 5 5\n"
     ]
    }
   ],
   "source": [
    "a=b=c= 5\n",
    "print(a,b,c)"
   ]
  },
  {
   "cell_type": "markdown",
   "id": "2315241d-4db1-4122-aa42-1a9943928b0f",
   "metadata": {},
   "source": [
    "# 4. Keywords & Identifiers"
   ]
  },
  {
   "cell_type": "markdown",
   "id": "5802faed-6714-4e2f-9a21-594b8fe42e38",
   "metadata": {},
   "source": [
    "### Keywords\n",
    "32 reserved words for python interpreter (don't use these as variables)"
   ]
  },
  {
   "cell_type": "markdown",
   "id": "effe4405-5dd8-4fe2-bdca-90061b592979",
   "metadata": {},
   "source": [
    "### Identifiers\n",
    "Names given in program like variable, function, name of class\n",
    "\n",
    "Rules for writing identifiers:\n",
    "1. You can't start with a digit\n",
    "2. You can use only 1 special character i.e. '_'\n",
    "3. Identifiers cannot be keywords"
   ]
  },
  {
   "cell_type": "markdown",
   "id": "2489943b-8b09-4940-bcad-4f699eea9cd0",
   "metadata": {},
   "source": [
    "# 5. User Input"
   ]
  },
  {
   "cell_type": "code",
   "execution_count": 99,
   "id": "ea1ea8dc-adf8-4d0d-b21e-61cd3e6cd324",
   "metadata": {},
   "outputs": [
    {
     "name": "stdin",
     "output_type": "stream",
     "text": [
      "Enter your name Kartik Walia\n"
     ]
    },
    {
     "data": {
      "text/plain": [
       "'Kartik Walia'"
      ]
     },
     "execution_count": 99,
     "metadata": {},
     "output_type": "execute_result"
    }
   ],
   "source": [
    "# Static Vs Dynamic\n",
    "input('Enter your name')"
   ]
  },
  {
   "cell_type": "markdown",
   "id": "17db7e82-52b5-41f4-8bbb-07ab228574b9",
   "metadata": {},
   "source": [
    "# 6. Type Conversion"
   ]
  },
  {
   "cell_type": "code",
   "execution_count": 133,
   "id": "80dbf7bb-98f1-4b74-828f-d64f80cf49a5",
   "metadata": {},
   "outputs": [
    {
     "name": "stdout",
     "output_type": "stream",
     "text": [
      "10.6\n",
      "<class 'int'> <class 'float'>\n",
      "<class 'int'>\n",
      "<class 'str'>\n",
      "<class 'float'>\n"
     ]
    }
   ],
   "source": [
    "# Implicit Vs Explicit\n",
    "\n",
    "# Implicit\n",
    "print(5+5.6)\n",
    "print(type(5), type(5.6))\n",
    "\n",
    "# Implicit type conversion doesn't always works, then we need Explicit\n",
    "# print(4 + '4') # gives error\n",
    "\n",
    "# Explicit\n",
    "print(type(int('4'))) # str -> int\n",
    "print(type(str(5))) # int -> str\n",
    "print(type(float(4))) # int -> float\n",
    "# int(4+5j) # gives error (type conversion is not possible among any datatypes)"
   ]
  },
  {
   "cell_type": "code",
   "execution_count": 138,
   "id": "ad61c415-762a-4b11-ad64-aa85b9b487eb",
   "metadata": {},
   "outputs": [
    {
     "name": "stdin",
     "output_type": "stream",
     "text": [
      "Enter a number 24\n"
     ]
    },
    {
     "name": "stdout",
     "output_type": "stream",
     "text": [
      "<class 'int'> <class 'str'>\n"
     ]
    }
   ],
   "source": [
    "# type conversion doesn't changes the original data, it create a new value\n",
    "fnum = input(\"Enter a number\")\n",
    "res = int(fnum)\n",
    "print(type(res), type(fnum))"
   ]
  },
  {
   "cell_type": "markdown",
   "id": "6d9470e7-1188-4d04-acc0-9079404b18e5",
   "metadata": {},
   "source": [
    "# 7. Literals"
   ]
  },
  {
   "cell_type": "code",
   "execution_count": 146,
   "id": "2c89c942-1975-4f25-94d8-a13d0f190557",
   "metadata": {},
   "outputs": [
    {
     "name": "stdout",
     "output_type": "stream",
     "text": [
      "10 100 200 300\n",
      "10.5 150.0 0.0015\n",
      "3.14j 3.14 0.0\n"
     ]
    }
   ],
   "source": [
    "# Raw values stored in variables \n",
    "\n",
    "a = 0b1010 # Binary Literal\n",
    "b = 100 # Decimal Literal\n",
    "c = 0o310 # Octal Literal\n",
    "d = 0x12c # Hexadecimal Literal\n",
    "print(a,b,c,d)\n",
    "\n",
    "# Float Literals\n",
    "float_1 = 10.5\n",
    "float_2 = 1.5e2\n",
    "float_3 = 1.5e-3\n",
    "print(float_1,float_2,float_3)\n",
    "\n",
    "# Complex Literals\n",
    "x = 3.14j\n",
    "print(x, x.imag, x.real) # can extract real & imaginary parts of complex numbers"
   ]
  },
  {
   "cell_type": "code",
   "execution_count": 150,
   "id": "5c1f60d5-907d-489f-bb13-44581f5cdd24",
   "metadata": {},
   "outputs": [
    {
     "name": "stdout",
     "output_type": "stream",
     "text": [
      "This is Python\n",
      "This is Python\n",
      "C\n",
      "This is a multiline string with more than one line code.\n",
      "😀😆🤣\n",
      "raw \\n string\n"
     ]
    }
   ],
   "source": [
    "string = 'This is Python'\n",
    "strings = \"This is Python\"\n",
    "char = \"C\"\n",
    "multiline_str = \"\"\"This is a multiline string with more than one line code.\"\"\"\n",
    "unicode = u\"\\U0001f600\\U0001F606\\U0001F923\"\n",
    "raw_str = r\"raw \\n string\"\n",
    "\n",
    "print(string)\n",
    "print(strings)\n",
    "print(char)\n",
    "print(multiline_str)\n",
    "print(unicode)\n",
    "print(raw_str)"
   ]
  },
  {
   "cell_type": "code",
   "execution_count": 154,
   "id": "1a180cb2-fa3a-4f49-9650-41a44b01e879",
   "metadata": {},
   "outputs": [
    {
     "name": "stdout",
     "output_type": "stream",
     "text": [
      "a: 5\n",
      "b: 10\n"
     ]
    }
   ],
   "source": [
    "a = True + 4\n",
    "b = False + 10\n",
    "\n",
    "print(\"a:\", a)\n",
    "print(\"b:\", b)"
   ]
  },
  {
   "cell_type": "code",
   "execution_count": 159,
   "id": "8f7e7459-7c06-4dae-a971-9442c5c95099",
   "metadata": {},
   "outputs": [
    {
     "name": "stdout",
     "output_type": "stream",
     "text": [
      "None\n"
     ]
    }
   ],
   "source": [
    "# when you don't know value of a variable that is needed further in code\n",
    "a = None \n",
    "print(a)"
   ]
  },
  {
   "cell_type": "code",
   "execution_count": null,
   "id": "e5579760-598b-4000-8664-ff75429a3311",
   "metadata": {},
   "outputs": [],
   "source": []
  }
 ],
 "metadata": {
  "kernelspec": {
   "display_name": "Python [conda env:base] *",
   "language": "python",
   "name": "conda-base-py"
  },
  "language_info": {
   "codemirror_mode": {
    "name": "ipython",
    "version": 3
   },
   "file_extension": ".py",
   "mimetype": "text/x-python",
   "name": "python",
   "nbconvert_exporter": "python",
   "pygments_lexer": "ipython3",
   "version": "3.12.7"
  }
 },
 "nbformat": 4,
 "nbformat_minor": 5
}

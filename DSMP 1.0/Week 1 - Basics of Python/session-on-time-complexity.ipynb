{
 "cells": [
  {
   "cell_type": "markdown",
   "id": "eb1e606e-041a-4c4e-870b-15c7cafb9f78",
   "metadata": {},
   "source": [
    "# Measuring Time"
   ]
  },
  {
   "cell_type": "code",
   "execution_count": 4,
   "id": "f3ef79a1-7124-40ba-acf3-1e62735dc79d",
   "metadata": {},
   "outputs": [
    {
     "name": "stdout",
     "output_type": "stream",
     "text": [
      "1\n",
      "2\n",
      "3\n",
      "4\n",
      "5\n",
      "6\n",
      "7\n",
      "8\n",
      "9\n",
      "0.0006377696990966797\n"
     ]
    }
   ],
   "source": [
    "import time \n",
    "\n",
    "start = time.time()\n",
    "for i in range(1,10):\n",
    "    print(i)\n",
    "\n",
    "end = time.time()\n",
    "print(end-start)"
   ]
  },
  {
   "cell_type": "markdown",
   "id": "f4df1eb6-a698-4672-839f-275ac5a254e9",
   "metadata": {},
   "source": [
    "# Order of Growth"
   ]
  },
  {
   "cell_type": "code",
   "execution_count": 32,
   "id": "ce045ad5-6696-418f-b06a-36b8d7e88ad7",
   "metadata": {},
   "outputs": [
    {
     "name": "stdout",
     "output_type": "stream",
     "text": [
      "40.0\n"
     ]
    }
   ],
   "source": [
    "n = 10\n",
    "k = 0\n",
    "for i in range(n//2,n):\n",
    "    for j in range(2,n,pow(2,j)):\n",
    "        k = k + n/2\n",
    "\n",
    "print(k)\n",
    "\n",
    "# outer loop runs for n/2 times \n",
    "# inner loop goes from 2 to 100, but it takes jumps in powers of 2, so it's logarithmic\n",
    "# hence, time complexity is O(nlogn) (as loops are nested)"
   ]
  },
  {
   "cell_type": "code",
   "execution_count": 34,
   "id": "60cb1c8f-fa8c-46a9-ba95-4aa10d8ec8b2",
   "metadata": {},
   "outputs": [],
   "source": [
    "def fib(n):\n",
    "    if n == 1 or n == 0:\n",
    "        return 1\n",
    "    else:\n",
    "        return fib(n-1) + fib(n-2)\n",
    "\n",
    "# for each value, we've to make 2 function calls, so it's like a chain reaction \n",
    "# hence, time complexity becomes O(2^n) i.e. exponential"
   ]
  },
  {
   "cell_type": "code",
   "execution_count": null,
   "id": "33c847d1-dda4-4779-9850-aaeee2125ffc",
   "metadata": {},
   "outputs": [],
   "source": []
  }
 ],
 "metadata": {
  "kernelspec": {
   "display_name": "Python [conda env:base] *",
   "language": "python",
   "name": "conda-base-py"
  },
  "language_info": {
   "codemirror_mode": {
    "name": "ipython",
    "version": 3
   },
   "file_extension": ".py",
   "mimetype": "text/x-python",
   "name": "python",
   "nbconvert_exporter": "python",
   "pygments_lexer": "ipython3",
   "version": "3.12.7"
  }
 },
 "nbformat": 4,
 "nbformat_minor": 5
}

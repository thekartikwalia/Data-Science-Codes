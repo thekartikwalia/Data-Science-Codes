{
 "cells": [
  {
   "cell_type": "markdown",
   "id": "25b23a87-da6b-469b-adbf-cd7f96c58c14",
   "metadata": {},
   "source": [
    "# Strings\n",
    "Strings are sequence of characters\n",
    "\n",
    "In Python specifically, strings are a sequence of Unicode Characters (not based on ASCII values)\n",
    "- Creating Strings\n",
    "- Accessing Strings\n",
    "- Adding Chars to Strings\n",
    "- Editing Strings\n",
    "- Deleting Strings\n",
    "- Operations on Strings\n",
    "- String Functions"
   ]
  },
  {
   "cell_type": "markdown",
   "id": "f8028e5c-b2db-4d4a-adda-d50b3fc13625",
   "metadata": {},
   "source": [
    "# Creating Strings "
   ]
  },
  {
   "cell_type": "code",
   "execution_count": 13,
   "id": "7341fa56-aa87-4370-b66d-8a4bd6131425",
   "metadata": {},
   "outputs": [
    {
     "name": "stdout",
     "output_type": "stream",
     "text": [
      "it's raining outside\n",
      "hello\n",
      "4.5\n"
     ]
    }
   ],
   "source": [
    "s = 'hello'\n",
    "s = \"hello\"\n",
    "s = \"it's raining outside\"\n",
    "print(s)\n",
    "\n",
    "# multiline strings\n",
    "s = '''hello''' \n",
    "s = \"\"\"hello\"\"\"\n",
    "print(s)\n",
    "\n",
    "s = str(4.5)\n",
    "print(s)"
   ]
  },
  {
   "cell_type": "markdown",
   "id": "4a21279b-f902-4f30-97da-c5667073befe",
   "metadata": {},
   "source": [
    "# Accessing Substrings from a String"
   ]
  },
  {
   "cell_type": "code",
   "execution_count": 19,
   "id": "7bb6182f-9922-4511-add3-f1b47ff4ec7b",
   "metadata": {},
   "outputs": [
    {
     "name": "stdout",
     "output_type": "stream",
     "text": [
      "h\n"
     ]
    }
   ],
   "source": [
    "# Positive Indexing (1st element is assigned 0)\n",
    "s = 'hello world'\n",
    "print(s[0])"
   ]
  },
  {
   "cell_type": "code",
   "execution_count": 21,
   "id": "c43cdb0a-36d8-42bf-b5d4-bb3e01f7c8bc",
   "metadata": {},
   "outputs": [
    {
     "name": "stdout",
     "output_type": "stream",
     "text": [
      "r\n"
     ]
    }
   ],
   "source": [
    "# Negative Indexing (Last element is assigned -1)\n",
    "s = 'hello world'\n",
    "print(s[-3])"
   ]
  },
  {
   "cell_type": "code",
   "execution_count": 65,
   "id": "9bb02999-e326-404c-8daa-21567adc9577",
   "metadata": {},
   "outputs": [
    {
     "name": "stdout",
     "output_type": "stream",
     "text": [
      "hello\n",
      "llo world\n",
      "hel\n",
      "hello world\n",
      "hlo\n",
      "wol\n",
      "\n",
      "dlrow olleh\n"
     ]
    }
   ],
   "source": [
    "# Slicing\n",
    "s = 'hello world'\n",
    "print(s[0:5]) # 5 is excluded\n",
    "print(s[2:]) # index 2 to end\n",
    "print(s[:3]) # starting to index 2\n",
    "print(s[:]) # prints whole string\n",
    "\n",
    "# Step size\n",
    "print(s[0:6:2]) # step size (skips 1 element, i.e. jump of 2)\n",
    "print(s[6:0:-2]) # 0 is excluded [In case of -ve step size, starting number should be bigger]\n",
    "print(s[-1:-6]) # doesn't prints anything (requires step size of -1)\n",
    "\n",
    "# Reverse a string\n",
    "print(s[::-1]) "
   ]
  },
  {
   "cell_type": "markdown",
   "id": "ad77eebd-7cd8-49cc-b61d-7ec0cac2fb61",
   "metadata": {},
   "source": [
    "# Editing and Deleting in Strings"
   ]
  },
  {
   "cell_type": "code",
   "execution_count": 81,
   "id": "2c7cd9ce-0bf9-4ebd-bf67-aa4e7ff90775",
   "metadata": {},
   "outputs": [],
   "source": [
    "s = 'hello world'\n",
    "\n",
    "# Python strings are immutable\n",
    "# s[0] = 'H' \n",
    "\n",
    "# Editing is not allowed"
   ]
  },
  {
   "cell_type": "code",
   "execution_count": 85,
   "id": "685e38b4-eaef-418a-9369-4de4bd3d1e85",
   "metadata": {},
   "outputs": [],
   "source": [
    "s = 'hello world'\n",
    "del s\n",
    "# print(s) # throws error name 's' is not defined\n",
    "\n",
    "# del s[-1:-5:2] # throws error bcoz python strings are immutable\n",
    "\n",
    "# Full deletion is allowed, partial deletion isn't allowed"
   ]
  },
  {
   "cell_type": "markdown",
   "id": "05deeb99-dad7-4a2b-bd4f-82ce3b9f28cd",
   "metadata": {},
   "source": [
    "# Operations on Strings\n",
    "- Arithmetic Operations\n",
    "- Relational Operations\n",
    "- Logical Operations\n",
    "- Loops on Strings\n",
    "- Membership Operations"
   ]
  },
  {
   "cell_type": "code",
   "execution_count": 98,
   "id": "96f94c95-e791-46d6-9078-88a1a0da2fd3",
   "metadata": {},
   "outputs": [
    {
     "name": "stdout",
     "output_type": "stream",
     "text": [
      "delhi mumbai\n",
      "delhidelhidelhidelhidelhi\n"
     ]
    }
   ],
   "source": [
    "# Arithmetic operations: only addition & multiplication works\n",
    "print('delhi' + ' ' + 'mumbai')\n",
    "print('delhi' * 5)"
   ]
  },
  {
   "cell_type": "code",
   "execution_count": 108,
   "id": "ef7b10a6-86af-462f-8e91-15c8f89ab0e1",
   "metadata": {},
   "outputs": [
    {
     "name": "stdout",
     "output_type": "stream",
     "text": [
      "False\n",
      "True\n",
      "False\n",
      "True\n",
      "False\n"
     ]
    }
   ],
   "source": [
    "# Relational operations: all works based lexicographic comparison\n",
    "print('delhi' == 'mumbai')\n",
    "print('delhi' != 'mumbai')\n",
    "print('delhi' > 'mumbai')\n",
    "print('delhi' < 'mumbai')\n",
    "print('Delhi' > 'delhi') # ASCII value of 'D' is lesser than that of 'd'"
   ]
  },
  {
   "cell_type": "code",
   "execution_count": 122,
   "id": "fefc3452-50d0-4895-9ce2-15d104f32421",
   "metadata": {},
   "outputs": [
    {
     "name": "stdout",
     "output_type": "stream",
     "text": [
      "\n",
      "world\n",
      "world\n",
      "hello\n",
      "world\n",
      "False\n",
      "True\n"
     ]
    }
   ],
   "source": [
    "# Logical operations\n",
    "\n",
    "# Python internally treats empty string as 'False' & remaining strings as 'True'\n",
    "print('' and 'world') # False i.e. ''\n",
    "print('' or 'world') # True i.e. 'world'\n",
    "\n",
    "# LR Associativity\n",
    "print('hello' and 'world')\n",
    "print('hello' or 'world')\n",
    "print('world' or 'hello')\n",
    "\n",
    "# 'not' returns True/False\n",
    "print(not 'hello')\n",
    "print(not '')"
   ]
  },
  {
   "cell_type": "code",
   "execution_count": 124,
   "id": "4f4324fa-dc24-4ca7-82a9-a9446598593f",
   "metadata": {},
   "outputs": [
    {
     "name": "stdout",
     "output_type": "stream",
     "text": [
      "h\n",
      "e\n",
      "l\n",
      "l\n",
      "o\n"
     ]
    }
   ],
   "source": [
    "# Loops on Strings\n",
    "for i in 'hello':\n",
    "    print(i)"
   ]
  },
  {
   "cell_type": "code",
   "execution_count": 126,
   "id": "ce94504a-2641-4cad-a7ee-f83f218a7556",
   "metadata": {},
   "outputs": [
    {
     "name": "stdout",
     "output_type": "stream",
     "text": [
      "True\n",
      "True\n"
     ]
    }
   ],
   "source": [
    "# Membership operations\n",
    "print('d' in 'delhi')\n",
    "print('D' not in 'delhi')"
   ]
  },
  {
   "cell_type": "markdown",
   "id": "fbcab2a1-e2b5-4896-9a1d-5c5bfd1b19d9",
   "metadata": {},
   "source": [
    "# Common Functions \n",
    "Functions which are applicable on all datatypes (eg: string, list, set, dictionary, tuple)\n",
    "- len\n",
    "- max\n",
    "- min\n",
    "- sorted"
   ]
  },
  {
   "cell_type": "code",
   "execution_count": 142,
   "id": "34ca351e-890f-4872-9e2b-4fda7c1991bf",
   "metadata": {},
   "outputs": [
    {
     "name": "stdout",
     "output_type": "stream",
     "text": [
      "11\n",
      "w\n",
      " \n",
      "[' ', 'd', 'e', 'h', 'l', 'l', 'l', 'o', 'o', 'r', 'w']\n",
      "['w', 'r', 'o', 'o', 'l', 'l', 'l', 'h', 'e', 'd', ' ']\n"
     ]
    }
   ],
   "source": [
    "print(len('hello world'))\n",
    "print(max('hello world')) # based on ASCII\n",
    "print(min('hello world')) # based on ASCII (min ASCII value is of space ' ')\n",
    "print(sorted('hello world')) # Output is LIST, not string (Ascending)\n",
    "print(sorted('hello world', reverse=True)) # Descending order"
   ]
  },
  {
   "cell_type": "markdown",
   "id": "c126bbe6-bdf8-46d1-be7a-68123001e0ab",
   "metadata": {},
   "source": [
    "# String Functions \n",
    "Functions that works only on strings"
   ]
  },
  {
   "cell_type": "code",
   "execution_count": 177,
   "id": "df572538-a7c7-4e30-9cc6-b8e4b64351d3",
   "metadata": {},
   "outputs": [
    {
     "name": "stdout",
     "output_type": "stream",
     "text": [
      "Hello world\n",
      "Hello World\n",
      "HELLO WORLD\n",
      "hello world\n",
      "hElLO wORld\n",
      "hello world\n"
     ]
    }
   ],
   "source": [
    "s = 'hello world'\n",
    "\n",
    "print(s.capitalize()) # capitalise 1st character of sentence \n",
    "print(s.title()) # capitalise 1st character of every word\n",
    "print(s.upper())\n",
    "print(s.lower())\n",
    "print('HeLlo WorLD'.swapcase())\n",
    "\n",
    "print(s) # original string is not getting changed, as strings are immutable"
   ]
  },
  {
   "cell_type": "code",
   "execution_count": 207,
   "id": "16ffc845-aa8c-46f7-8beb-6834c85e6657",
   "metadata": {},
   "outputs": [
    {
     "name": "stdout",
     "output_type": "stream",
     "text": [
      "2\n",
      "8\n",
      "-1\n"
     ]
    }
   ],
   "source": [
    "print('my name is kartik'.count('i'))\n",
    "print('my name is kartik'.find('is')) # returns index of 1st occurence\n",
    "print('my name is kartik'.find('x')) # returns -1 in case of non-existence\n",
    "# print('my name is nitish'.index('x')) # throws error in case of non-existence (rest same behaviour as find())"
   ]
  },
  {
   "cell_type": "code",
   "execution_count": 209,
   "id": "fd1690bf-a7fd-4f52-8b51-515cfec40c66",
   "metadata": {},
   "outputs": [
    {
     "name": "stdout",
     "output_type": "stream",
     "text": [
      "False\n",
      "False\n"
     ]
    }
   ],
   "source": [
    "print('my name is kartik'.endswith('sh'))\n",
    "print('my name is kartik'.startswith('imy'))"
   ]
  },
  {
   "cell_type": "code",
   "execution_count": 175,
   "id": "16447954-b58e-43fa-a4e0-db797abd153a",
   "metadata": {},
   "outputs": [
    {
     "name": "stdout",
     "output_type": "stream",
     "text": [
      "Hi my name is kartik and I am a male\n",
      "Hi my name is male and I am a kartik\n",
      "Hi my name is kartik and I am a male\n"
     ]
    }
   ],
   "source": [
    "name = 'kartik'\n",
    "gender = 'male'\n",
    "\n",
    "s = 'Hi my name is {} and I am a {}'\n",
    "print(s.format(name,gender)) \n",
    "print(s.format(gender,name)) # order name,gender matters\n",
    "\n",
    "# can decide positioning within string as well\n",
    "s = 'Hi my name is {1} and I am a {0}'\n",
    "print(s.format(gender,name))"
   ]
  },
  {
   "cell_type": "code",
   "execution_count": 183,
   "id": "f07c8c16-0a64-4f1f-8838-2e65fcb51142",
   "metadata": {},
   "outputs": [
    {
     "name": "stdout",
     "output_type": "stream",
     "text": [
      "False\n",
      "True\n",
      "True\n",
      "False\n"
     ]
    }
   ],
   "source": [
    "print('kartik1234%'.isalnum())\n",
    "print('kartik'.isalpha())\n",
    "print('1234'.isdigit())\n",
    "print('1name%'.isidentifier()) # False, not a valid identifier"
   ]
  },
  {
   "cell_type": "code",
   "execution_count": 195,
   "id": "4ea9081a-dfaf-487f-bdda-9bf843491b76",
   "metadata": {},
   "outputs": [
    {
     "name": "stdout",
     "output_type": "stream",
     "text": [
      "['Hi,', 'my', 'name', 'is', 'kartik']\n",
      "['H', ', my name ', 's kart', 'k']\n",
      "['Hi, my name ', ' kartik']\n",
      "Hi, my name is kartik\n",
      "Hi,-my-name-is-kartik\n"
     ]
    }
   ],
   "source": [
    "print('Hi, my name is kartik'.split()) # breaks word by word, add returns a list\n",
    "\n",
    "# can split over different values as well (not just spaces)\n",
    "print('Hi, my name is kartik'.split('i'))\n",
    "print('Hi, my name is kartik'.split('is'))\n",
    "\n",
    "# JOIN - reverse of split \n",
    "print(\" \".join(['Hi,', 'my', 'name', 'is', 'kartik']))\n",
    "print(\"-\".join(['Hi,', 'my', 'name', 'is', 'kartik'])) # can join based on different values (not just spaces)"
   ]
  },
  {
   "cell_type": "code",
   "execution_count": 199,
   "id": "2e83f39f-d1e4-46f1-a6c5-3e1c63f817fc",
   "metadata": {},
   "outputs": [
    {
     "name": "stdout",
     "output_type": "stream",
     "text": [
      "Hi, my name is AIStacksDaily\n",
      "Hi, my name is kartik\n"
     ]
    }
   ],
   "source": [
    "print('Hi, my name is kartik'.replace('kartik','AIStacksDaily')) # not replacing in original string, creating a new one \n",
    "print('Hi, my name is kartik'.replace('mayank','AIStacksDaily')) # in case of non-existence, prints original string"
   ]
  },
  {
   "cell_type": "code",
   "execution_count": 205,
   "id": "feb7b32e-7091-47e9-9656-e12039f905a1",
   "metadata": {},
   "outputs": [
    {
     "data": {
      "text/plain": [
       "'kartik'"
      ]
     },
     "execution_count": 205,
     "metadata": {},
     "output_type": "execute_result"
    }
   ],
   "source": [
    "'kartik              '.strip() # removes trailing spaces (used in web-dev forms at time of login/signup)"
   ]
  },
  {
   "cell_type": "code",
   "execution_count": null,
   "id": "c4170822-3456-48c0-ba06-50cf9f716226",
   "metadata": {},
   "outputs": [],
   "source": []
  }
 ],
 "metadata": {
  "kernelspec": {
   "display_name": "Python [conda env:base] *",
   "language": "python",
   "name": "conda-base-py"
  },
  "language_info": {
   "codemirror_mode": {
    "name": "ipython",
    "version": 3
   },
   "file_extension": ".py",
   "mimetype": "text/x-python",
   "name": "python",
   "nbconvert_exporter": "python",
   "pygments_lexer": "ipython3",
   "version": "3.12.7"
  }
 },
 "nbformat": 4,
 "nbformat_minor": 5
}

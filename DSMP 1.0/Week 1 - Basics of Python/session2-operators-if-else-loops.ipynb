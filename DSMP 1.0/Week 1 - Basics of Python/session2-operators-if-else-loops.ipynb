{
 "cells": [
  {
   "cell_type": "markdown",
   "id": "a82d5d1b-600b-47a6-8c91-9647d63dc975",
   "metadata": {},
   "source": [
    "# Operators in Python \n",
    "- Arithmetic Operators\n",
    "- Relational Operators\n",
    "- Logical Operators\n",
    "- Bitwise Operators\n",
    "- Assignment Operators\n",
    "- Membership Operators"
   ]
  },
  {
   "cell_type": "code",
   "execution_count": 19,
   "id": "cd33d55c-4963-493f-a664-78a989e22db0",
   "metadata": {},
   "outputs": [
    {
     "name": "stdout",
     "output_type": "stream",
     "text": [
      "11\n",
      "-1\n",
      "30\n",
      "2.5\n",
      "2\n",
      "1\n",
      "25\n"
     ]
    }
   ],
   "source": [
    "# Arithmetic Operators\n",
    "\n",
    "print(5+6)\n",
    "print(5-6)\n",
    "print(5*6)\n",
    "print(5/2)\n",
    "print(5//2)\n",
    "print(5%2)\n",
    "print(5**2)"
   ]
  },
  {
   "cell_type": "code",
   "execution_count": 21,
   "id": "18462204-58f8-4b7e-9890-d502379e8681",
   "metadata": {},
   "outputs": [
    {
     "name": "stdout",
     "output_type": "stream",
     "text": [
      "False\n",
      "True\n",
      "True\n",
      "True\n",
      "True\n",
      "False\n"
     ]
    }
   ],
   "source": [
    "# Relational Operators\n",
    "\n",
    "print(4>5)\n",
    "print(4<5)\n",
    "print(4>=4)\n",
    "print(4<=4)\n",
    "print(4==4)\n",
    "print(4!=4)"
   ]
  },
  {
   "cell_type": "code",
   "execution_count": 23,
   "id": "59ed6be9-7c78-4470-abec-fbcfc856fa08",
   "metadata": {},
   "outputs": [
    {
     "name": "stdout",
     "output_type": "stream",
     "text": [
      "0\n",
      "1\n",
      "False\n"
     ]
    }
   ],
   "source": [
    "# Logical Operators\n",
    "\n",
    "print(1 and 0)\n",
    "print(1 or 0)\n",
    "print(not 1)"
   ]
  },
  {
   "cell_type": "code",
   "execution_count": 31,
   "id": "f29ab626-4176-4b67-80f6-2cedbd881888",
   "metadata": {},
   "outputs": [
    {
     "name": "stdout",
     "output_type": "stream",
     "text": [
      "2\n",
      "3\n",
      "1\n",
      "-4\n",
      "1\n",
      "16\n"
     ]
    }
   ],
   "source": [
    "# Bitwise Operators: operate on binary values\n",
    "\n",
    "print(2 & 3) # bitwise and \n",
    "print(2 | 3) # bitwise or\n",
    "print(2 ^ 3) # bitwise xor (odd 1 detector)\n",
    "print(~3) # bitwise not\n",
    "print(4 >> 2) # bitwise right\n",
    "print(4 << 2) # bitwise left"
   ]
  },
  {
   "cell_type": "code",
   "execution_count": 46,
   "id": "0fb47ccc-7d48-499e-96fe-2dd89bd36798",
   "metadata": {},
   "outputs": [
    {
     "name": "stdout",
     "output_type": "stream",
     "text": [
      "4\n",
      "kartik walia\n"
     ]
    }
   ],
   "source": [
    "# Assignment Operators\n",
    "\n",
    "a = 2\n",
    "\n",
    "# Assignment operators can be used with different operators in conjunction\n",
    "a += 2 # a = a+2\n",
    "print(a)\n",
    "b = \"kartik\"\n",
    "b += \" walia\"\n",
    "print(b)\n",
    "\n",
    "# NOTE: python doesn't supports pre-increment/decrement (i.e. ++a, --a) or post-increment/decrement (i.e. a++, a--)"
   ]
  },
  {
   "cell_type": "code",
   "execution_count": 50,
   "id": "0d2b1047-fd3d-4aad-a1b2-d6c1a6f1cb00",
   "metadata": {},
   "outputs": [
    {
     "name": "stdout",
     "output_type": "stream",
     "text": [
      "False\n",
      "True\n",
      "False\n",
      "False\n"
     ]
    }
   ],
   "source": [
    "# Membership Operators\n",
    "\n",
    "# in/not in\n",
    "print('d' in 'Delhi')\n",
    "print('D' in 'Delhi')\n",
    "print('D' not in 'Delhi')\n",
    "\n",
    "print(1 in [2,3,4,5,6])"
   ]
  },
  {
   "cell_type": "markdown",
   "id": "1f27aa2c-d909-4f20-8f2b-b972a0d80c2b",
   "metadata": {},
   "source": [
    "# If-else in Python"
   ]
  },
  {
   "cell_type": "code",
   "execution_count": 73,
   "id": "510326e6-9e7a-4e97-9f77-5aee5793e329",
   "metadata": {},
   "outputs": [
    {
     "name": "stdin",
     "output_type": "stream",
     "text": [
      "enter email business.kartikwalia@gmail.com\n",
      "enter password 12\n"
     ]
    },
    {
     "name": "stdout",
     "output_type": "stream",
     "text": [
      "Incorrect password\n"
     ]
    },
    {
     "name": "stdin",
     "output_type": "stream",
     "text": [
      "enter password again 1234\n"
     ]
    },
    {
     "name": "stdout",
     "output_type": "stream",
     "text": [
      "Welcome, finally!\n"
     ]
    }
   ],
   "source": [
    "# To handle branching (like in case of login program) and Indentation\n",
    "\n",
    "# Syntax\n",
    "email = input('enter email')\n",
    "password = input('enter password')\n",
    "condition_t = email == 'business.kartikwalia@gmail.com' and password == '1234'\n",
    "condition_f = email == 'business.kartikwalia@gmail.com' and password != '1234'\n",
    "if condition_t:\n",
    "    # code for if\n",
    "    print('Welcome')\n",
    "elif condition_f:\n",
    "    # code for elif\n",
    "    print('Incorrect password')\n",
    "    password = input('enter password again')\n",
    "    if password == '1234':\n",
    "        print('Welcome, finally!')\n",
    "    else:\n",
    "        print('Beta tumse na ho paayega')\n",
    "else:\n",
    "    # code for else\n",
    "    print('Wrong credentials')"
   ]
  },
  {
   "cell_type": "code",
   "execution_count": 78,
   "id": "03a195a5-3d1b-47f5-a511-b6ae0077f41b",
   "metadata": {},
   "outputs": [],
   "source": [
    "# if-else examples\n",
    "# 1. Find the main of 3 given numbers\n",
    "# 2. Menu Driven calculator"
   ]
  },
  {
   "cell_type": "markdown",
   "id": "c7894733-2a25-422d-8b1a-167f830e7410",
   "metadata": {},
   "source": [
    "# Modules in Python\n",
    "- math\n",
    "- keywords\n",
    "- random\n",
    "- datetime"
   ]
  },
  {
   "cell_type": "code",
   "execution_count": 92,
   "id": "df00e821-d1fe-465e-b386-09b13aa7a687",
   "metadata": {},
   "outputs": [
    {
     "name": "stdout",
     "output_type": "stream",
     "text": [
      "120\n",
      "6\n",
      "14.0\n"
     ]
    }
   ],
   "source": [
    "# math\n",
    "import math\n",
    "\n",
    "print(math.factorial(5))\n",
    "print(math.floor(6.8))\n",
    "print(math.sqrt(196))"
   ]
  },
  {
   "cell_type": "code",
   "execution_count": 94,
   "id": "ee1d3c1d-fee8-49d7-95ce-c858b296407a",
   "metadata": {},
   "outputs": [
    {
     "name": "stdout",
     "output_type": "stream",
     "text": [
      "['False', 'None', 'True', 'and', 'as', 'assert', 'async', 'await', 'break', 'class', 'continue', 'def', 'del', 'elif', 'else', 'except', 'finally', 'for', 'from', 'global', 'if', 'import', 'in', 'is', 'lambda', 'nonlocal', 'not', 'or', 'pass', 'raise', 'return', 'try', 'while', 'with', 'yield']\n"
     ]
    }
   ],
   "source": [
    "# keyword\n",
    "import keyword\n",
    "\n",
    "print(keyword.kwlist) # get all 32 reserved keywords"
   ]
  },
  {
   "cell_type": "code",
   "execution_count": 106,
   "id": "5e4ac5b3-9c7e-4820-a844-7cbda780f5b9",
   "metadata": {},
   "outputs": [
    {
     "name": "stdout",
     "output_type": "stream",
     "text": [
      "79\n"
     ]
    }
   ],
   "source": [
    "# random\n",
    "import random\n",
    "\n",
    "print(random.randint(1,100))"
   ]
  },
  {
   "cell_type": "code",
   "execution_count": 108,
   "id": "11581267-88ef-494d-9f28-8b2f5b96df01",
   "metadata": {},
   "outputs": [
    {
     "name": "stdout",
     "output_type": "stream",
     "text": [
      "2025-06-01 19:22:34.855112\n"
     ]
    }
   ],
   "source": [
    "# datetime\n",
    "import datetime \n",
    "\n",
    "print(datetime.datetime.now()) # shows google collab's server time"
   ]
  },
  {
   "cell_type": "code",
   "execution_count": 116,
   "id": "7bf300c6-ed55-4a80-b515-eb9d6fc30bfe",
   "metadata": {},
   "outputs": [
    {
     "name": "stdout",
     "output_type": "stream",
     "text": [
      "\n",
      "Please wait a moment while I gather a list of all available modules...\n",
      "\n",
      "3204bda914b7f2c6f497__mypyc black               jupyter_core        regex\n",
      "AppKit              blackd              jupyter_events      repo_cli\n",
      "Cocoa               bleach              jupyter_lsp         reprlib\n",
      "CoreFoundation      blib2to3            jupyter_server      requests\n",
      "CoreServices        blinker             jupyter_server_terminals requests_file\n",
      "FSEvents            bokeh               jupyterlab          requests_toolbelt\n",
      "Foundation          boltons             jupyterlab_plotly   resource\n",
      "IPython             botocore            jupyterlab_pygments rfc3339_validator\n",
      "OpenSSL             bottleneck          jupyterlab_server   rfc3986_validator\n",
      "PIL                 brotli              jupyterlab_widgets  rich\n",
      "PyQt5               bs4                 jwt                 rlcompleter\n",
      "__future__          builtins            keyring             rope\n",
      "__hello__           bz2                 keyword             rpds\n",
      "__phello__          cProfile            kiwisolver          rtree\n",
      "_abc                cachetools          langchain_core      ruamel_yaml\n",
      "_aix_support        calendar            langsmith           runpy\n",
      "_argon2_cffi_bindings certifi             lazy_loader         s3fs\n",
      "_ast                cffi                lazy_object_proxy   sched\n",
      "_asyncio            cgi                 lckr_jupyterlab_variableinspector scipy\n",
      "_bisect             cgitb               lib2to3             scrapy\n",
      "_black_version      chardet             libarchive          seaborn\n",
      "_blake2             charset_normalizer  libmambapy          secrets\n",
      "_brotli             chunk               lief                select\n",
      "_bz2                click               linecache           selectors\n",
      "_cffi_backend       cloudpickle         linkify_it          semver\n",
      "_codecs             cmath               llvmlite            send2trash\n",
      "_codecs_cn          cmd                 lmdb                sentry_sdk\n",
      "_codecs_hk          code                locale              service_identity\n",
      "_codecs_iso2022     codecs              locket              setuptools\n",
      "_codecs_jp          codeop              logging             shellingham\n",
      "_codecs_kr          collections         lxml                shelve\n",
      "_codecs_tw          colorama            lz4                 shlex\n",
      "_collections        colorcet            lzma                shutil\n",
      "_collections_abc    colorsys            mactypes            signal\n",
      "_compat_pickle      comm                mailbox             sipbuild\n",
      "_compression        compileall          mailcap             site\n",
      "_contextvars        concurrent          mako                six\n",
      "_crypt              conda               markdown            skimage\n",
      "_csv                conda_build         markdown_it         sklearn\n",
      "_ctypes             conda_content_trust markupsafe          slugify\n",
      "_ctypes_test        conda_env           marshal             smart_open\n",
      "_curses             conda_index         math                smmap\n",
      "_curses_panel       conda_libmamba_solver matplotlib          smtplib\n",
      "_datetime           conda_pack          matplotlib_inline   sndhdr\n",
      "_dbm                conda_package_handling mccabe              sniffio\n",
      "_decimal            conda_package_streaming mdit_py_plugins     snowballstemmer\n",
      "_distutils_hack     conda_token         mdurl               socket\n",
      "_elementtree        conf                menuinst            socketserver\n",
      "_functools          configparser        mimetypes           socks\n",
      "_hashlib            constantly          mistune             sockshandler\n",
      "_heapq              contextlib          mmap                sortedcontainers\n",
      "_imp                contextvars         modulefinder        soupsieve\n",
      "_io                 contourpy           more_itertools      sphinx\n",
      "_json               cookiecutter        mpmath              sphinxify\n",
      "_locale             copy                msgpack             sphinxthread\n",
      "_lsprof             copyreg             multidict           spyder\n",
      "_lzma               cpuinfo             multipledispatch    spyder_kernels\n",
      "_markupbase         crypt               multiprocessing     sqlalchemy\n",
      "_md5                cryptography        mypy                sqlite3\n",
      "_multibytecodec     cssselect           mypy_extensions     sre_compile\n",
      "_multiprocessing    csv                 mypyc               sre_constants\n",
      "_opcode             ctypes              navigator_updater   sre_parse\n",
      "_operator           curl                nb_conda_kernels    ssl\n",
      "_osx_support        curses              nbclient            stack_data\n",
      "_pickle             cycler              nbconvert           stat\n",
      "_plotly_future_     cytoolz             nbformat            statistics\n",
      "_plotly_utils       dask                nest_asyncio        statsmodels\n",
      "_posixshmem         dask_expr           netrc               streamlit\n",
      "_posixsubprocess    dataclasses         networkx            string\n",
      "_py_abc             datashader          nis                 stringprep\n",
      "_pydatetime         datetime            nltk                struct\n",
      "_pydecimal          dateutil            nntplib             subprocess\n",
      "_pyio               dbm                 notebook            sunau\n",
      "_pylong             deap                notebook_shim       sympy\n",
      "_pytest             debugpy             ntpath              symtable\n",
      "_queue              decimal             nturl2path          sys\n",
      "_random             decorator           numba               sysconfig\n",
      "_ruamel_yaml        defusedxml          numbergen           syslog\n",
      "_scproxy            diff_match_patch    numbers             tables\n",
      "_sha1               difflib             numexpr             tabnanny\n",
      "_sha2               dill                numpy               tabulate\n",
      "_sha3               dis                 numpydoc            tarfile\n",
      "_signal             distributed         objc                tblib\n",
      "_sitebuiltins       distro              opcode              telnetlib\n",
      "_socket             dmglib              openpyxl            tempfile\n",
      "_sqlite3            docstring_to_markdown operator            tenacity\n",
      "_sre                doctest             optparse            terminado\n",
      "_ssl                docutils            orjson              termios\n",
      "_stat               dotenv              os                  test\n",
      "_statistics         email               osax                test_pycosat\n",
      "_string             encodings           overrides           text_unidecode\n",
      "_strptime           ensurepip           packaging           textdistance\n",
      "_struct             enum                pandas              textwrap\n",
      "_symtable           erfa                pandocfilters       this\n",
      "_sysconfigdata__darwin_darwin errno               panel               threading\n",
      "_sysconfigdata_arm64_apple_darwin20_0_0 et_xmlfile          param               threadpoolctl\n",
      "_testbuffer         executing           parsel              three_merge\n",
      "_testcapi           fastjsonschema      parso               tifffile\n",
      "_testclinic         faulthandler        partd               time\n",
      "_testimportmultiple fcntl               pathlib             timeit\n",
      "_testinternalcapi   filecmp             pathspec            tinycss2\n",
      "_testmultiphase     fileinput           patsy               tkinter\n",
      "_testsinglephase    filelock            pdb                 tldextract\n",
      "_thread             flake8              pexpect             tlz\n",
      "_threading_local    flask               pickle              token\n",
      "_tkinter            fnmatch             pickleshare         tokenize\n",
      "_tokenize           fontTools           pickletools         toml\n",
      "_tracemalloc        fractions           pip                 tomli\n",
      "_typing             frozendict          pipes               tomlkit\n",
      "_uuid               frozenlist          pkce                tomllib\n",
      "_warnings           fsspec              pkg_resources       toolz\n",
      "_watchdog_fsevents  ftplib              pkginfo             tornado\n",
      "_weakref            functools           pkgutil             tqdm\n",
      "_weakrefset         gc                  platform            trace\n",
      "_xxinterpchannels   genericpath         platformdirs        traceback\n",
      "_xxsubinterpreters  gensim              plistlib            tracemalloc\n",
      "_xxtestfuzz         getopt              plotly              traitlets\n",
      "_yaml               getpass             pluggy              truststore\n",
      "_zoneinfo           gettext             ply                 tty\n",
      "abc                 git                 poplib              turtle\n",
      "aem                 gitdb               posix               turtledemo\n",
      "aext_assistant      glob                posixpath           twisted\n",
      "aext_assistant_server graphlib            pprint              typeguard\n",
      "aext_core           greenlet            profile             typer\n",
      "aext_core_server    grp                 prometheus_client   types\n",
      "aext_panels         gzip                prompt_toolkit      typing\n",
      "aext_panels_server  h11                 protego             typing_extensions\n",
      "aext_project_filebrowser_server h5py                pstats              tzdata\n",
      "aext_share_notebook hashlib             psutil              uc_micro\n",
      "aext_share_notebook_server heapdict            pty                 ujson\n",
      "aext_shared         heapq               ptyprocess          unicodedata\n",
      "aext_toolbox        hmac                pure_eval           unicodedata2\n",
      "aifc                holoviews           pwd                 unidecode\n",
      "aiobotocore         html                py                  unittest\n",
      "aiohappyeyeballs    http                py_compile          urllib\n",
      "aiohttp             httpcore            pyarrow             urllib3\n",
      "aioitertools        httpx               pyasn1              uu\n",
      "aiosignal           hvplot              pyasn1_modules      uuid\n",
      "alabaster           hyperlink           pyclbr              venv\n",
      "alembic             idlelib             pycodestyle         w3lib\n",
      "altair              idna                pycosat             warnings\n",
      "anaconda_anon_usage imagecodecs         pycparser           watchdog\n",
      "anaconda_catalogs   imageio             pyct                wave\n",
      "anaconda_cli_base   imagesize           pycurl              wcwidth\n",
      "anaconda_cloud_auth imaplib             pydantic            weakref\n",
      "anaconda_navigator  imblearn            pydantic_core       webbrowser\n",
      "anaconda_project    imghdr              pydantic_settings   webencodings\n",
      "annotated_types     importlib           pydeck              websocket\n",
      "antigravity         importlib_metadata  pydispatch          werkzeug\n",
      "anyio               importlib_resources pydoc               whatthepatch\n",
      "appdirs             incremental         pydoc_data          wheel\n",
      "applaunchservices   inflect             pydocstyle          widgetsnbextension\n",
      "appnope             inflection          pyexpat             wrapt\n",
      "appscript           iniconfig           pyflakes            wsgiref\n",
      "archspec            inspect             pygments            wurlitzer\n",
      "argon2              intake              pylab               xarray\n",
      "argparse            intervaltree        pylint              xdrlib\n",
      "array               io                  pylint_venv         xlwings\n",
      "arrow               ipaddress           pyls_spyder         xlwingsjs\n",
      "ast                 ipykernel           pylsp               xml\n",
      "astroid             ipykernel_launcher  pylsp_black         xmlrpc\n",
      "astropy             ipython_genutils    pylsp_jsonrpc       xxlimited\n",
      "astropy_iers_data   ipywidgets          pyodbc              xxlimited_35\n",
      "asttokens           isort               pyparsing           xxsubtype\n",
      "async_lru           isympy              pytest              xyzservices\n",
      "asyncio             itemadapter         pythonjsonlogger    yaml\n",
      "atexit              itemloaders         pytoolconfig        yapf\n",
      "atomicwrites        itertools           pytz                yapf_third_party\n",
      "attr                itsdangerous        pyviz_comms         yapftests\n",
      "attrs               jedi                pywt                yarl\n",
      "audioop             jellyfish           qdarkstyle          zict\n",
      "autocommand         jinja2              qstylizer           zipapp\n",
      "automat             jmespath            qtawesome           zipfile\n",
      "autopep8            joblib              qtconsole           zipimport\n",
      "babel               json                qtpy                zipp\n",
      "backports           json5               queue               zlib\n",
      "base64              jsonpatch           queuelib            zmq\n",
      "bcrypt              jsonpointer         quopri              zoneinfo\n",
      "bdb                 jsonschema          random              zope\n",
      "binaryornot         jsonschema_specifications re                  zstandard\n",
      "binascii            jupyter             readchar            \n",
      "binstar_client      jupyter_client      readline            \n",
      "bisect              jupyter_console     referencing         \n",
      "\n",
      "Enter any module name to get more help.  Or, type \"modules spam\" to search\n",
      "for modules whose name or summary contain the string \"spam\".\n",
      "\n"
     ]
    }
   ],
   "source": [
    "# find all modules available in python \n",
    "help('modules')"
   ]
  },
  {
   "cell_type": "markdown",
   "id": "a72cad0b-4b71-4327-9be0-7046101b18c0",
   "metadata": {},
   "source": [
    "# Loops in Python\n",
    "- Need for loops\n",
    "- While Loop\n",
    "- For Loop"
   ]
  },
  {
   "cell_type": "code",
   "execution_count": 125,
   "id": "499dd32b-bb53-4ab3-b9dc-024364acb36b",
   "metadata": {},
   "outputs": [
    {
     "name": "stdin",
     "output_type": "stream",
     "text": [
      "enter number 12\n"
     ]
    },
    {
     "name": "stdout",
     "output_type": "stream",
     "text": [
      "12 * 1 = 12\n",
      "12 * 2 = 24\n",
      "12 * 3 = 36\n",
      "12 * 4 = 48\n",
      "12 * 5 = 60\n",
      "12 * 6 = 72\n",
      "12 * 7 = 84\n",
      "12 * 8 = 96\n",
      "12 * 9 = 108\n",
      "12 * 10 = 120\n"
     ]
    }
   ],
   "source": [
    "# While loop example -> program to print the table\n",
    "num = int(input('enter number'))\n",
    "i = 1\n",
    "while i<11:\n",
    "    print(num,'*',i,'=',num * i)\n",
    "    i += 1\n",
    "    \n",
    "# Program -> Sum of all digits of a given number \n",
    "# Program -> keep accepting numbers from users till he/she enters a 0 and then find the average"
   ]
  },
  {
   "cell_type": "code",
   "execution_count": 130,
   "id": "dd3b4f25-14dd-483c-841b-f2d1151a9e1b",
   "metadata": {},
   "outputs": [
    {
     "name": "stdout",
     "output_type": "stream",
     "text": [
      "1\n",
      "2\n",
      "limit crossed\n"
     ]
    }
   ],
   "source": [
    "# while loop with else \n",
    "x = 1\n",
    "while x<3:\n",
    "    print(x)\n",
    "    x += 1\n",
    "    \n",
    "else:\n",
    "    print('limit crossed')"
   ]
  },
  {
   "cell_type": "code",
   "execution_count": 134,
   "id": "e9e0dc82-2f8f-4485-b036-90ce6ed1eaef",
   "metadata": {},
   "outputs": [
    {
     "name": "stdin",
     "output_type": "stream",
     "text": [
      "guess a number 50\n"
     ]
    },
    {
     "name": "stdout",
     "output_type": "stream",
     "text": [
      "wrong, guess higher\n"
     ]
    },
    {
     "name": "stdin",
     "output_type": "stream",
     "text": [
      "guess again 75\n"
     ]
    },
    {
     "name": "stdout",
     "output_type": "stream",
     "text": [
      "correct guess\n",
      "attempts 2\n"
     ]
    }
   ],
   "source": [
    "# Guessing game \n",
    "\n",
    "import random \n",
    "jackpot = random.randint(1, 100)\n",
    "\n",
    "guess = int(input('guess a number'))\n",
    "counter = 1\n",
    "while guess != jackpot:\n",
    "    if guess < jackpot:\n",
    "        print('wrong, guess higher')\n",
    "    else :\n",
    "        print('right, guess lower')\n",
    "\n",
    "    guess = int(input('guess again'))\n",
    "    counter += 1\n",
    "    \n",
    "else:\n",
    "    print('correct guess')\n",
    "    print('attempts',counter)"
   ]
  },
  {
   "cell_type": "code",
   "execution_count": 156,
   "id": "d7c0b630-b352-45b1-8c60-24f41f7e89b5",
   "metadata": {},
   "outputs": [
    {
     "name": "stdout",
     "output_type": "stream",
     "text": [
      "1\n",
      "2\n",
      "3\n",
      "4\n",
      "5\n",
      "Step/Jumping\n",
      "1\n",
      "5\n",
      "9\n",
      "Reverse Printing\n",
      "6\n",
      "5\n",
      "4\n",
      "3\n",
      "2\n",
      "1\n",
      "Iterating over string\n",
      "D\n",
      "e\n",
      "l\n",
      "h\n",
      "i\n",
      "Iterating over list\n",
      "1\n",
      "3\n",
      "5\n",
      "6\n"
     ]
    }
   ],
   "source": [
    "# For loop demo\n",
    "\n",
    "for i in range(1,6): # excludes 6\n",
    "    print(i)\n",
    "    \n",
    "print('Step/Jumping')\n",
    "for i in range(1,11,4): # step size\n",
    "    print(i)\n",
    "\n",
    "print('Reverse Printing')\n",
    "for i in range(6,0,-1): # excludes 0\n",
    "    print(i)\n",
    "\n",
    "# For loop can iterate over other datatypes (like string, list, tuple, set etc.) as well \n",
    "print('Iterating over string')\n",
    "for i in 'Delhi':\n",
    "    print(i)\n",
    "print('Iterating over list')\n",
    "for i in [1,3,5,6]:\n",
    "    print(i)"
   ]
  },
  {
   "cell_type": "code",
   "execution_count": 168,
   "id": "cf0d8229-61b1-4fbf-964a-6fbc7b96d743",
   "metadata": {},
   "outputs": [
    {
     "name": "stdout",
     "output_type": "stream",
     "text": [
      "10 10000\n",
      "9 9090.90909090909\n",
      "8 8264.462809917353\n",
      "7 7513.148009015775\n",
      "6 6830.134553650703\n",
      "5 6209.213230591548\n",
      "4 5644.739300537771\n",
      "3 5131.5811823070635\n",
      "2 4665.07380209733\n",
      "1 4240.976183724845\n"
     ]
    }
   ],
   "source": [
    "# For loop examples\n",
    "\n",
    "# Program -> The current population of town is 10000. The population of town is increasing at the rate of 10% per year. \n",
    "# You've to write a program to find out the population at the end of each of the last 10 years.\n",
    "\n",
    "curr_pop = 10000\n",
    "\n",
    "for i in range(10,0,-1):\n",
    "    print(i,curr_pop)\n",
    "    prev_pop = curr_pop/(1+0.1) # prev_pop + 10% of prev_pop = curr_pop\n",
    "    curr_pop = prev_pop"
   ]
  },
  {
   "cell_type": "code",
   "execution_count": 175,
   "id": "f7d975b7-f9d0-4eb9-b25c-2eb00770146d",
   "metadata": {},
   "outputs": [
    {
     "name": "stdin",
     "output_type": "stream",
     "text": [
      "enter n 3\n"
     ]
    },
    {
     "name": "stdout",
     "output_type": "stream",
     "text": [
      "2.5\n"
     ]
    }
   ],
   "source": [
    "# Sequence sum: find sum till nth term\n",
    "# 1/1! + 2/2! + 3/3! + ...\n",
    "\n",
    "n = int(input('enter n'))\n",
    "\n",
    "res = 0\n",
    "fact = 1\n",
    "for i in range(1,n+1):\n",
    "    fact *= i\n",
    "    res += i/fact\n",
    "    \n",
    "print(res)"
   ]
  },
  {
   "cell_type": "markdown",
   "id": "65d1edc7-b98b-4be6-a78a-8ca4d54e6d83",
   "metadata": {},
   "source": [
    "# Nested Loops"
   ]
  },
  {
   "cell_type": "code",
   "execution_count": 177,
   "id": "d844f2b8-2233-493d-87eb-6b09f5495c13",
   "metadata": {},
   "outputs": [
    {
     "name": "stdout",
     "output_type": "stream",
     "text": [
      "1 1\n",
      "1 2\n",
      "1 3\n",
      "1 4\n",
      "2 1\n",
      "2 2\n",
      "2 3\n",
      "2 4\n",
      "3 1\n",
      "3 2\n",
      "3 3\n",
      "3 4\n",
      "4 1\n",
      "4 2\n",
      "4 3\n",
      "4 4\n"
     ]
    }
   ],
   "source": [
    "# Examples -> unique pairs\n",
    "\n",
    "for i in range(1,5):\n",
    "    for j in range(1,5):\n",
    "        print(i,j)"
   ]
  },
  {
   "cell_type": "markdown",
   "id": "77ae7903-2ddd-4b52-8ca1-6e80ea06aaa3",
   "metadata": {},
   "source": [
    "### Print Pattern 1\n",
    "```\n",
    "*\n",
    "**\n",
    "***\n",
    "```"
   ]
  },
  {
   "cell_type": "code",
   "execution_count": 199,
   "id": "239c47a7-77c2-4d2e-a797-ef210cf6e239",
   "metadata": {},
   "outputs": [
    {
     "name": "stdin",
     "output_type": "stream",
     "text": [
      "enter n 3\n"
     ]
    },
    {
     "name": "stdout",
     "output_type": "stream",
     "text": [
      "*\n",
      "**\n",
      "***\n"
     ]
    }
   ],
   "source": [
    "n = int(input('enter n'))\n",
    "\n",
    "for i in range(1,n+1):\n",
    "    for j in range(1,i+1):\n",
    "        print('*', end='')\n",
    "    print()"
   ]
  },
  {
   "cell_type": "markdown",
   "id": "53702205-bf10-4df0-b826-8084f156aab7",
   "metadata": {},
   "source": [
    "### Print Pattern 2\n",
    "```\n",
    "1\n",
    "121\n",
    "12321\n",
    "1234321\n",
    "```"
   ]
  },
  {
   "cell_type": "code",
   "execution_count": 206,
   "id": "692def3d-2510-4ec2-a01e-8dcff3f79572",
   "metadata": {},
   "outputs": [
    {
     "name": "stdin",
     "output_type": "stream",
     "text": [
      "enter n 4\n"
     ]
    },
    {
     "name": "stdout",
     "output_type": "stream",
     "text": [
      "1\n",
      "121\n",
      "12321\n",
      "1234321\n"
     ]
    }
   ],
   "source": [
    "n = int(input('enter n'))\n",
    "\n",
    "for i in range(1,n+1):\n",
    "    for j in range(1,i+1):\n",
    "        print(j, end='')\n",
    "    for j in range(i-1,0,-1):\n",
    "        print(j, end='')\n",
    "    print()"
   ]
  },
  {
   "cell_type": "markdown",
   "id": "5cc541a5-730c-45eb-bb6e-634560131559",
   "metadata": {},
   "source": [
    "# Loop Control Statement\n",
    "- Break (eg: database linear searching)\n",
    "- Continue: skips the code for current iteration (eg: don't display products with stock = 0)\n",
    "- Pass"
   ]
  },
  {
   "cell_type": "code",
   "execution_count": 219,
   "id": "8464ddac-83d1-456f-901a-73d56aa69fdb",
   "metadata": {},
   "outputs": [
    {
     "name": "stdout",
     "output_type": "stream",
     "text": [
      "1\n",
      "2\n",
      "3\n",
      "4\n"
     ]
    }
   ],
   "source": [
    "# break\n",
    "\n",
    "for i in range(1,10):\n",
    "    if i==5:\n",
    "        break\n",
    "    print(i)"
   ]
  },
  {
   "cell_type": "code",
   "execution_count": 221,
   "id": "8001332e-dc57-45eb-bf2b-7e417eaca3d4",
   "metadata": {},
   "outputs": [
    {
     "name": "stdin",
     "output_type": "stream",
     "text": [
      "enter lower range 10\n",
      "enter upper range 30\n"
     ]
    },
    {
     "name": "stdout",
     "output_type": "stream",
     "text": [
      "11\n",
      "13\n",
      "17\n",
      "19\n",
      "23\n",
      "29\n"
     ]
    }
   ],
   "source": [
    "# print prime numbers in a given range \n",
    "\n",
    "lower = int(input('enter lower range'))\n",
    "upper = int(input('enter upper range'))\n",
    "\n",
    "for i in range(lower,upper+1):\n",
    "    for j in range(2,i):\n",
    "        if i%j==0:\n",
    "            break\n",
    "    else:\n",
    "        print(i)"
   ]
  },
  {
   "cell_type": "code",
   "execution_count": 217,
   "id": "0062e39a-3795-42f6-97d3-64dd5d578bbf",
   "metadata": {},
   "outputs": [
    {
     "name": "stdout",
     "output_type": "stream",
     "text": [
      "1\n",
      "2\n",
      "3\n",
      "4\n",
      "6\n",
      "7\n",
      "8\n",
      "9\n"
     ]
    }
   ],
   "source": [
    "# continue\n",
    "\n",
    "for i in range(1,10):\n",
    "    if i==5:\n",
    "        continue\n",
    "    print(i)"
   ]
  },
  {
   "cell_type": "code",
   "execution_count": 225,
   "id": "318b40f0-dfa7-4a63-af30-fec5b5d13457",
   "metadata": {},
   "outputs": [],
   "source": [
    "# pass\n",
    "\n",
    "for i in range(1,10):\n",
    "    pass # tells interpreter don't throw error, i'll be writing some code here in sometime"
   ]
  },
  {
   "cell_type": "code",
   "execution_count": null,
   "id": "ab2cf4b4-5e30-407e-9606-8b18c70a930e",
   "metadata": {},
   "outputs": [],
   "source": []
  }
 ],
 "metadata": {
  "kernelspec": {
   "display_name": "Python [conda env:base] *",
   "language": "python",
   "name": "conda-base-py"
  },
  "language_info": {
   "codemirror_mode": {
    "name": "ipython",
    "version": 3
   },
   "file_extension": ".py",
   "mimetype": "text/x-python",
   "name": "python",
   "nbconvert_exporter": "python",
   "pygments_lexer": "ipython3",
   "version": "3.12.7"
  }
 },
 "nbformat": 4,
 "nbformat_minor": 5
}
